{
 "cells": [
  {
   "cell_type": "code",
   "execution_count": 26,
   "id": "0fed9f87",
   "metadata": {},
   "outputs": [],
   "source": [
    "import numpy as np\n",
    "import cv2"
   ]
  },
  {
   "cell_type": "code",
   "execution_count": 36,
   "id": "31d28948",
   "metadata": {},
   "outputs": [],
   "source": [
    "img = cv2.imread(\"../images/faces.jpg\")"
   ]
  },
  {
   "cell_type": "code",
   "execution_count": 28,
   "id": "cff1d835",
   "metadata": {},
   "outputs": [],
   "source": [
    "def show(name, img):\n",
    "    cv2.imshow(name, img)\n",
    "    cv2.waitKey(0)\n",
    "    cv2.destroyAllWindows()"
   ]
  },
  {
   "cell_type": "code",
   "execution_count": 4,
   "id": "4de2b600",
   "metadata": {},
   "outputs": [],
   "source": [
    "show(\"img\", img)"
   ]
  },
  {
   "cell_type": "code",
   "execution_count": 29,
   "id": "da8a3633",
   "metadata": {},
   "outputs": [],
   "source": [
    "net = cv2.dnn.readNetFromCaffe(\"../models/deploy.prototxt.txt\", \n",
    "                              \"../models/res10_300x300_ssd_iter_140000_fp16.caffemodel\")"
   ]
  },
  {
   "cell_type": "code",
   "execution_count": 30,
   "id": "890f08fc",
   "metadata": {},
   "outputs": [],
   "source": [
    "blob = cv2.dnn.blobFromImage(img, 1, (300, 300), (104, 177, 123), swapRB = False)"
   ]
  },
  {
   "cell_type": "code",
   "execution_count": 31,
   "id": "9bac668d",
   "metadata": {},
   "outputs": [],
   "source": [
    "net.setInput(blob)\n",
    "detections = net.forward()"
   ]
  },
  {
   "cell_type": "code",
   "execution_count": 32,
   "id": "2a0a20de",
   "metadata": {},
   "outputs": [
    {
     "data": {
      "text/plain": [
       "(1, 1, 70, 7)"
      ]
     },
     "execution_count": 32,
     "metadata": {},
     "output_type": "execute_result"
    }
   ],
   "source": [
    "detections.shape"
   ]
  },
  {
   "cell_type": "code",
   "execution_count": 40,
   "id": "f759cac8",
   "metadata": {},
   "outputs": [],
   "source": [
    "h, w = img.shape[:2]\n",
    "for i in range(detections.shape[2]):\n",
    "    confidence = detections[0, 0, i, 2]\n",
    "    if confidence > 0.5:\n",
    "#         print(confidence)\n",
    "        box = detections[0, 0, i, 3:7]\n",
    "        box = box* np.array([w, h, w, h])\n",
    "        box = box.astype(int)\n",
    "        startx, starty, endx, endy = box\n",
    "        cv2.rectangle(img, (startx, starty), (endx, endy), (255, 0, 0))\n",
    "        \n",
    "        text = f\"Face: {confidence*100} %\"\n",
    "        cv2.putText(img, text, (startx, starty-10), cv2.FONT_HERSHEY_COMPLEX, 1, (255, 255, 255))"
   ]
  },
  {
   "cell_type": "code",
   "execution_count": 41,
   "id": "0bf21c75",
   "metadata": {},
   "outputs": [],
   "source": [
    "show(\"Faces\", img)"
   ]
  },
  {
   "cell_type": "code",
   "execution_count": null,
   "id": "6f2b3c24",
   "metadata": {},
   "outputs": [],
   "source": []
  }
 ],
 "metadata": {
  "kernelspec": {
   "display_name": "Python 3",
   "language": "python",
   "name": "python3"
  },
  "language_info": {
   "codemirror_mode": {
    "name": "ipython",
    "version": 3
   },
   "file_extension": ".py",
   "mimetype": "text/x-python",
   "name": "python",
   "nbconvert_exporter": "python",
   "pygments_lexer": "ipython3",
   "version": "3.8.8"
  }
 },
 "nbformat": 4,
 "nbformat_minor": 5
}
