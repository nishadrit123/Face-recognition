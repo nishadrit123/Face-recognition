{
 "cells": [
  {
   "cell_type": "code",
   "execution_count": 1,
   "id": "a4aca8a8",
   "metadata": {},
   "outputs": [],
   "source": [
    "import numpy as np;\n",
    "import pickle\n",
    "import pandas as pd "
   ]
  },
  {
   "cell_type": "code",
   "execution_count": null,
   "id": "a74334a0",
   "metadata": {},
   "outputs": [],
   "source": [
    "# LOAD\n",
    "# SPLIT \n",
    "# TRAIN AND TEST"
   ]
  },
  {
   "cell_type": "code",
   "execution_count": 2,
   "id": "2d981f9e",
   "metadata": {},
   "outputs": [],
   "source": [
    "data = pickle.load(open('./data_pickle.pickle', mode='rb'))"
   ]
  },
  {
   "cell_type": "code",
   "execution_count": 3,
   "id": "3358b622",
   "metadata": {},
   "outputs": [],
   "source": [
    "x = np.array(data['data'])   # independent var\n",
    "y = np.array(data['label'])  # dependent var"
   ]
  },
  {
   "cell_type": "code",
   "execution_count": 4,
   "id": "9f6a9edb",
   "metadata": {},
   "outputs": [
    {
     "data": {
      "text/plain": [
       "((1219, 1, 128), (1219,))"
      ]
     },
     "execution_count": 4,
     "metadata": {},
     "output_type": "execute_result"
    }
   ],
   "source": [
    "x.shape, y.shape "
   ]
  },
  {
   "cell_type": "code",
   "execution_count": 5,
   "id": "920f58c5",
   "metadata": {},
   "outputs": [
    {
     "data": {
      "text/plain": [
       "(1219, 128)"
      ]
     },
     "execution_count": 5,
     "metadata": {},
     "output_type": "execute_result"
    }
   ],
   "source": [
    "x = x.reshape(-1, 128)\n",
    "x.shape"
   ]
  },
  {
   "cell_type": "code",
   "execution_count": 6,
   "id": "3182511e",
   "metadata": {},
   "outputs": [],
   "source": [
    "from sklearn.model_selection import train_test_split"
   ]
  },
  {
   "cell_type": "code",
   "execution_count": 7,
   "id": "263b555b",
   "metadata": {},
   "outputs": [],
   "source": [
    "xtrain, xtest, ytrain, ytest = train_test_split(x, y, train_size=0.8, random_state = 0)"
   ]
  },
  {
   "cell_type": "code",
   "execution_count": 8,
   "id": "36cb38d5",
   "metadata": {},
   "outputs": [
    {
     "data": {
      "text/plain": [
       "((975, 128), (244, 128), (975,), (244,))"
      ]
     },
     "execution_count": 8,
     "metadata": {},
     "output_type": "execute_result"
    }
   ],
   "source": [
    "xtrain.shape, xtest.shape, ytrain.shape, ytest.shape"
   ]
  },
  {
   "cell_type": "code",
   "execution_count": 9,
   "id": "18c7759e",
   "metadata": {},
   "outputs": [],
   "source": [
    "# train ml"
   ]
  },
  {
   "cell_type": "code",
   "execution_count": 10,
   "id": "077dfed3",
   "metadata": {},
   "outputs": [],
   "source": [
    "from sklearn.linear_model import LogisticRegression\n",
    "from sklearn.svm import SVC\n",
    "from sklearn.ensemble import RandomForestClassifier\n",
    "from sklearn.neighbors import KNeighborsClassifier\n",
    "from sklearn.naive_bayes import BernoulliNB\n",
    "from sklearn.ensemble import VotingClassifier\n",
    "from sklearn.metrics import classification_report, accuracy_score, f1_score"
   ]
  },
  {
   "cell_type": "code",
   "execution_count": 12,
   "id": "b8f855b8",
   "metadata": {},
   "outputs": [],
   "source": [
    "def get_report(model, xtrain, xtest, ytrain, ytest):\n",
    "    y_pred_train = model.predict(xtrain)\n",
    "    y_pred_test = model.predict(xtest)\n",
    "\n",
    "    # accuracy \n",
    "    acc_train = accuracy_score(ytrain, y_pred_train)\n",
    "    acc_test = accuracy_score(ytest, y_pred_test)\n",
    "\n",
    "    # f1 score \n",
    "    f1_score_train = f1_score(ytrain, y_pred_train, average='macro')\n",
    "    f1_score_test = f1_score(ytest, y_pred_test, average='macro')\n",
    "\n",
    "    print(\"Accuracy train: \", acc_train)\n",
    "    print(\"Accuracy test: \", acc_test)\n",
    "    print(\"F1 score train: \", f1_score_train)\n",
    "    print(\"F1 score test: \", f1_score_test)"
   ]
  },
  {
   "cell_type": "code",
   "execution_count": 11,
   "id": "2d3464b5",
   "metadata": {},
   "outputs": [
    {
     "data": {
      "text/plain": [
       "KNeighborsClassifier(n_neighbors=3)"
      ]
     },
     "execution_count": 11,
     "metadata": {},
     "output_type": "execute_result"
    }
   ],
   "source": [
    "model_KNN = KNeighborsClassifier(n_neighbors=3)\n",
    "model_KNN.fit(xtrain, ytrain)"
   ]
  },
  {
   "cell_type": "code",
   "execution_count": 13,
   "id": "32d22210",
   "metadata": {},
   "outputs": [
    {
     "name": "stdout",
     "output_type": "stream",
     "text": [
      "Accuracy train:  0.5323076923076923\n",
      "Accuracy test:  0.21721311475409835\n",
      "F1 score train:  0.5183802629632687\n",
      "F1 score test:  0.20749959084653835\n"
     ]
    }
   ],
   "source": [
    "get_report(model_KNN, xtrain, xtest, ytrain, ytest)"
   ]
  },
  {
   "cell_type": "code",
   "execution_count": null,
   "id": "2bd6ec8b",
   "metadata": {},
   "outputs": [],
   "source": [
    "# Logistic Regression"
   ]
  },
  {
   "cell_type": "code",
   "execution_count": 9,
   "id": "a2bbb5fb",
   "metadata": {},
   "outputs": [
    {
     "data": {
      "text/plain": [
       "LogisticRegression()"
      ]
     },
     "execution_count": 9,
     "metadata": {},
     "output_type": "execute_result"
    }
   ],
   "source": [
    "model_logistic = LogisticRegression()\n",
    "model_logistic.fit(xtrain, ytrain)"
   ]
  },
  {
   "cell_type": "code",
   "execution_count": 11,
   "id": "c420c5c4",
   "metadata": {},
   "outputs": [
    {
     "name": "stdout",
     "output_type": "stream",
     "text": [
      "Accuracy train:  0.3292307692307692\n",
      "Accuracy test:  0.20491803278688525\n",
      "F1 score train:  0.30890693477486575\n",
      "F1 score test:  0.18544831339221496\n"
     ]
    }
   ],
   "source": [
    "get_report(model_logistic,  xtrain, xtest, ytrain, ytest)"
   ]
  },
  {
   "cell_type": "code",
   "execution_count": 17,
   "id": "25e55c37",
   "metadata": {},
   "outputs": [],
   "source": [
    "# Support Vector Machines"
   ]
  },
  {
   "cell_type": "code",
   "execution_count": 12,
   "id": "b39c2159",
   "metadata": {},
   "outputs": [
    {
     "data": {
      "text/plain": [
       "SVC(probability=True)"
      ]
     },
     "execution_count": 12,
     "metadata": {},
     "output_type": "execute_result"
    }
   ],
   "source": [
    "model_svc = SVC(probability = True)\n",
    "model_svc.fit(xtrain, ytrain)"
   ]
  },
  {
   "cell_type": "code",
   "execution_count": 13,
   "id": "61b9d73d",
   "metadata": {},
   "outputs": [
    {
     "name": "stdout",
     "output_type": "stream",
     "text": [
      "Accuracy train:  0.5066666666666667\n",
      "Accuracy test:  0.2459016393442623\n",
      "F1 score train:  0.5104390016146961\n",
      "F1 score test:  0.23359124110046395\n"
     ]
    }
   ],
   "source": [
    "get_report(model_svc,  xtrain, xtest, ytrain, ytest)"
   ]
  },
  {
   "cell_type": "code",
   "execution_count": null,
   "id": "4284cd8a",
   "metadata": {},
   "outputs": [],
   "source": [
    "# Random forest"
   ]
  },
  {
   "cell_type": "code",
   "execution_count": 16,
   "id": "c52b73b7",
   "metadata": {},
   "outputs": [
    {
     "data": {
      "text/plain": [
       "RandomForestClassifier(n_estimators=10)"
      ]
     },
     "execution_count": 16,
     "metadata": {},
     "output_type": "execute_result"
    }
   ],
   "source": [
    "model_rf = RandomForestClassifier(n_estimators=10)\n",
    "model_rf.fit(xtrain, ytrain)"
   ]
  },
  {
   "cell_type": "code",
   "execution_count": 17,
   "id": "9006647c",
   "metadata": {},
   "outputs": [
    {
     "name": "stdout",
     "output_type": "stream",
     "text": [
      "Accuracy train:  0.9948717948717949\n",
      "Accuracy test:  0.1598360655737705\n",
      "F1 score train:  0.9951796437268728\n",
      "F1 score test:  0.14440872741701455\n"
     ]
    }
   ],
   "source": [
    "get_report(model_rf,  xtrain, xtest, ytrain, ytest)"
   ]
  },
  {
   "cell_type": "code",
   "execution_count": null,
   "id": "54dd5cd3",
   "metadata": {},
   "outputs": [],
   "source": [
    "# Voting classifier "
   ]
  },
  {
   "cell_type": "code",
   "execution_count": 21,
   "id": "d1ff9cfe",
   "metadata": {},
   "outputs": [],
   "source": [
    "model_voting = VotingClassifier(estimators=[\n",
    "    ('logistic', LogisticRegression()),\n",
    "    ('svm', SVC(probability=True)),\n",
    "    ('rf', RandomForestClassifier())\n",
    "], voting='soft', weights=[2, 3, 1])"
   ]
  },
  {
   "cell_type": "code",
   "execution_count": 22,
   "id": "51a434cb",
   "metadata": {},
   "outputs": [
    {
     "data": {
      "text/plain": [
       "VotingClassifier(estimators=[('logistic', LogisticRegression()),\n",
       "                             ('svm', SVC(probability=True)),\n",
       "                             ('rf', RandomForestClassifier())],\n",
       "                 voting='soft', weights=[2, 3, 1])"
      ]
     },
     "execution_count": 22,
     "metadata": {},
     "output_type": "execute_result"
    }
   ],
   "source": [
    "model_voting.fit(xtrain, ytrain)"
   ]
  },
  {
   "cell_type": "code",
   "execution_count": 23,
   "id": "c3de0d94",
   "metadata": {},
   "outputs": [
    {
     "name": "stdout",
     "output_type": "stream",
     "text": [
      "Accuracy train:  0.8912820512820513\n",
      "Accuracy test:  0.25\n",
      "F1 score train:  0.893027389315306\n",
      "F1 score test:  0.22199888172774712\n"
     ]
    }
   ],
   "source": [
    "get_report(model_voting, xtrain, xtest, ytrain, ytest)"
   ]
  },
  {
   "cell_type": "code",
   "execution_count": null,
   "id": "362c8737",
   "metadata": {},
   "outputs": [],
   "source": [
    "# Parameter tuning"
   ]
  },
  {
   "cell_type": "code",
   "execution_count": 24,
   "id": "38f93a44",
   "metadata": {},
   "outputs": [],
   "source": [
    "from sklearn.model_selection import GridSearchCV"
   ]
  },
  {
   "cell_type": "code",
   "execution_count": 27,
   "id": "22944150",
   "metadata": {},
   "outputs": [],
   "source": [
    "model_grid = GridSearchCV(model_voting,\n",
    "                         param_grid={\n",
    "                             'svm__C' : [3, 5, 7, 10],\n",
    "                             'svm__gamma' : [0.1, 0.3, 0.5],\n",
    "                             'rf__n_estimators' : [5, 10, 20],\n",
    "                             'rf__max_depth' : [3, 5, 7],\n",
    "                             'voting' : ['soft', 'hard']\n",
    "                         }, scoring='accuracy', cv=3, n_jobs=1, verbose=2)"
   ]
  },
  {
   "cell_type": "code",
   "execution_count": 28,
   "id": "ae772e34",
   "metadata": {},
   "outputs": [
    {
     "name": "stdout",
     "output_type": "stream",
     "text": [
      "Fitting 3 folds for each of 216 candidates, totalling 648 fits\n",
      "[CV] END rf__max_depth=3, rf__n_estimators=5, svm__C=3, svm__gamma=0.1, voting=soft; total time=   1.0s\n",
      "[CV] END rf__max_depth=3, rf__n_estimators=5, svm__C=3, svm__gamma=0.1, voting=soft; total time=   1.1s\n",
      "[CV] END rf__max_depth=3, rf__n_estimators=5, svm__C=3, svm__gamma=0.1, voting=soft; total time=   1.0s\n",
      "[CV] END rf__max_depth=3, rf__n_estimators=5, svm__C=3, svm__gamma=0.1, voting=hard; total time=   1.0s\n",
      "[CV] END rf__max_depth=3, rf__n_estimators=5, svm__C=3, svm__gamma=0.1, voting=hard; total time=   1.0s\n",
      "[CV] END rf__max_depth=3, rf__n_estimators=5, svm__C=3, svm__gamma=0.1, voting=hard; total time=   1.1s\n",
      "[CV] END rf__max_depth=3, rf__n_estimators=5, svm__C=3, svm__gamma=0.3, voting=soft; total time=   1.0s\n",
      "[CV] END rf__max_depth=3, rf__n_estimators=5, svm__C=3, svm__gamma=0.3, voting=soft; total time=   1.0s\n",
      "[CV] END rf__max_depth=3, rf__n_estimators=5, svm__C=3, svm__gamma=0.3, voting=soft; total time=   1.0s\n",
      "[CV] END rf__max_depth=3, rf__n_estimators=5, svm__C=3, svm__gamma=0.3, voting=hard; total time=   1.0s\n",
      "[CV] END rf__max_depth=3, rf__n_estimators=5, svm__C=3, svm__gamma=0.3, voting=hard; total time=   1.0s\n",
      "[CV] END rf__max_depth=3, rf__n_estimators=5, svm__C=3, svm__gamma=0.3, voting=hard; total time=   1.0s\n",
      "[CV] END rf__max_depth=3, rf__n_estimators=5, svm__C=3, svm__gamma=0.5, voting=soft; total time=   1.0s\n",
      "[CV] END rf__max_depth=3, rf__n_estimators=5, svm__C=3, svm__gamma=0.5, voting=soft; total time=   1.0s\n",
      "[CV] END rf__max_depth=3, rf__n_estimators=5, svm__C=3, svm__gamma=0.5, voting=soft; total time=   1.0s\n",
      "[CV] END rf__max_depth=3, rf__n_estimators=5, svm__C=3, svm__gamma=0.5, voting=hard; total time=   1.0s\n",
      "[CV] END rf__max_depth=3, rf__n_estimators=5, svm__C=3, svm__gamma=0.5, voting=hard; total time=   1.1s\n",
      "[CV] END rf__max_depth=3, rf__n_estimators=5, svm__C=3, svm__gamma=0.5, voting=hard; total time=   0.9s\n",
      "[CV] END rf__max_depth=3, rf__n_estimators=5, svm__C=5, svm__gamma=0.1, voting=soft; total time=   0.9s\n",
      "[CV] END rf__max_depth=3, rf__n_estimators=5, svm__C=5, svm__gamma=0.1, voting=soft; total time=   1.0s\n",
      "[CV] END rf__max_depth=3, rf__n_estimators=5, svm__C=5, svm__gamma=0.1, voting=soft; total time=   0.9s\n",
      "[CV] END rf__max_depth=3, rf__n_estimators=5, svm__C=5, svm__gamma=0.1, voting=hard; total time=   0.8s\n",
      "[CV] END rf__max_depth=3, rf__n_estimators=5, svm__C=5, svm__gamma=0.1, voting=hard; total time=   0.9s\n",
      "[CV] END rf__max_depth=3, rf__n_estimators=5, svm__C=5, svm__gamma=0.1, voting=hard; total time=   0.9s\n",
      "[CV] END rf__max_depth=3, rf__n_estimators=5, svm__C=5, svm__gamma=0.3, voting=soft; total time=   1.0s\n",
      "[CV] END rf__max_depth=3, rf__n_estimators=5, svm__C=5, svm__gamma=0.3, voting=soft; total time=   1.0s\n",
      "[CV] END rf__max_depth=3, rf__n_estimators=5, svm__C=5, svm__gamma=0.3, voting=soft; total time=   0.9s\n",
      "[CV] END rf__max_depth=3, rf__n_estimators=5, svm__C=5, svm__gamma=0.3, voting=hard; total time=   0.9s\n",
      "[CV] END rf__max_depth=3, rf__n_estimators=5, svm__C=5, svm__gamma=0.3, voting=hard; total time=   1.0s\n",
      "[CV] END rf__max_depth=3, rf__n_estimators=5, svm__C=5, svm__gamma=0.3, voting=hard; total time=   0.9s\n",
      "[CV] END rf__max_depth=3, rf__n_estimators=5, svm__C=5, svm__gamma=0.5, voting=soft; total time=   1.0s\n",
      "[CV] END rf__max_depth=3, rf__n_estimators=5, svm__C=5, svm__gamma=0.5, voting=soft; total time=   1.0s\n",
      "[CV] END rf__max_depth=3, rf__n_estimators=5, svm__C=5, svm__gamma=0.5, voting=soft; total time=   0.9s\n",
      "[CV] END rf__max_depth=3, rf__n_estimators=5, svm__C=5, svm__gamma=0.5, voting=hard; total time=   1.0s\n",
      "[CV] END rf__max_depth=3, rf__n_estimators=5, svm__C=5, svm__gamma=0.5, voting=hard; total time=   1.1s\n",
      "[CV] END rf__max_depth=3, rf__n_estimators=5, svm__C=5, svm__gamma=0.5, voting=hard; total time=   1.0s\n",
      "[CV] END rf__max_depth=3, rf__n_estimators=5, svm__C=7, svm__gamma=0.1, voting=soft; total time=   1.0s\n",
      "[CV] END rf__max_depth=3, rf__n_estimators=5, svm__C=7, svm__gamma=0.1, voting=soft; total time=   1.0s\n",
      "[CV] END rf__max_depth=3, rf__n_estimators=5, svm__C=7, svm__gamma=0.1, voting=soft; total time=   1.0s\n",
      "[CV] END rf__max_depth=3, rf__n_estimators=5, svm__C=7, svm__gamma=0.1, voting=hard; total time=   1.0s\n",
      "[CV] END rf__max_depth=3, rf__n_estimators=5, svm__C=7, svm__gamma=0.1, voting=hard; total time=   1.0s\n",
      "[CV] END rf__max_depth=3, rf__n_estimators=5, svm__C=7, svm__gamma=0.1, voting=hard; total time=   1.0s\n",
      "[CV] END rf__max_depth=3, rf__n_estimators=5, svm__C=7, svm__gamma=0.3, voting=soft; total time=   1.0s\n",
      "[CV] END rf__max_depth=3, rf__n_estimators=5, svm__C=7, svm__gamma=0.3, voting=soft; total time=   1.0s\n",
      "[CV] END rf__max_depth=3, rf__n_estimators=5, svm__C=7, svm__gamma=0.3, voting=soft; total time=   1.1s\n",
      "[CV] END rf__max_depth=3, rf__n_estimators=5, svm__C=7, svm__gamma=0.3, voting=hard; total time=   1.0s\n",
      "[CV] END rf__max_depth=3, rf__n_estimators=5, svm__C=7, svm__gamma=0.3, voting=hard; total time=   1.1s\n",
      "[CV] END rf__max_depth=3, rf__n_estimators=5, svm__C=7, svm__gamma=0.3, voting=hard; total time=   1.0s\n",
      "[CV] END rf__max_depth=3, rf__n_estimators=5, svm__C=7, svm__gamma=0.5, voting=soft; total time=   1.1s\n",
      "[CV] END rf__max_depth=3, rf__n_estimators=5, svm__C=7, svm__gamma=0.5, voting=soft; total time=   1.1s\n",
      "[CV] END rf__max_depth=3, rf__n_estimators=5, svm__C=7, svm__gamma=0.5, voting=soft; total time=   1.1s\n",
      "[CV] END rf__max_depth=3, rf__n_estimators=5, svm__C=7, svm__gamma=0.5, voting=hard; total time=   1.1s\n",
      "[CV] END rf__max_depth=3, rf__n_estimators=5, svm__C=7, svm__gamma=0.5, voting=hard; total time=   1.1s\n",
      "[CV] END rf__max_depth=3, rf__n_estimators=5, svm__C=7, svm__gamma=0.5, voting=hard; total time=   1.1s\n",
      "[CV] END rf__max_depth=3, rf__n_estimators=5, svm__C=10, svm__gamma=0.1, voting=soft; total time=   1.0s\n",
      "[CV] END rf__max_depth=3, rf__n_estimators=5, svm__C=10, svm__gamma=0.1, voting=soft; total time=   1.0s\n",
      "[CV] END rf__max_depth=3, rf__n_estimators=5, svm__C=10, svm__gamma=0.1, voting=soft; total time=   1.0s\n",
      "[CV] END rf__max_depth=3, rf__n_estimators=5, svm__C=10, svm__gamma=0.1, voting=hard; total time=   1.0s\n",
      "[CV] END rf__max_depth=3, rf__n_estimators=5, svm__C=10, svm__gamma=0.1, voting=hard; total time=   1.0s\n",
      "[CV] END rf__max_depth=3, rf__n_estimators=5, svm__C=10, svm__gamma=0.1, voting=hard; total time=   1.0s\n",
      "[CV] END rf__max_depth=3, rf__n_estimators=5, svm__C=10, svm__gamma=0.3, voting=soft; total time=   1.1s\n",
      "[CV] END rf__max_depth=3, rf__n_estimators=5, svm__C=10, svm__gamma=0.3, voting=soft; total time=   1.1s\n",
      "[CV] END rf__max_depth=3, rf__n_estimators=5, svm__C=10, svm__gamma=0.3, voting=soft; total time=   1.0s\n",
      "[CV] END rf__max_depth=3, rf__n_estimators=5, svm__C=10, svm__gamma=0.3, voting=hard; total time=   1.0s\n",
      "[CV] END rf__max_depth=3, rf__n_estimators=5, svm__C=10, svm__gamma=0.3, voting=hard; total time=   1.1s\n",
      "[CV] END rf__max_depth=3, rf__n_estimators=5, svm__C=10, svm__gamma=0.3, voting=hard; total time=   1.0s\n",
      "[CV] END rf__max_depth=3, rf__n_estimators=5, svm__C=10, svm__gamma=0.5, voting=soft; total time=   1.2s\n",
      "[CV] END rf__max_depth=3, rf__n_estimators=5, svm__C=10, svm__gamma=0.5, voting=soft; total time=   1.1s\n",
      "[CV] END rf__max_depth=3, rf__n_estimators=5, svm__C=10, svm__gamma=0.5, voting=soft; total time=   1.1s\n",
      "[CV] END rf__max_depth=3, rf__n_estimators=5, svm__C=10, svm__gamma=0.5, voting=hard; total time=   1.1s\n",
      "[CV] END rf__max_depth=3, rf__n_estimators=5, svm__C=10, svm__gamma=0.5, voting=hard; total time=   1.1s\n",
      "[CV] END rf__max_depth=3, rf__n_estimators=5, svm__C=10, svm__gamma=0.5, voting=hard; total time=   1.1s\n",
      "[CV] END rf__max_depth=3, rf__n_estimators=10, svm__C=3, svm__gamma=0.1, voting=soft; total time=   1.1s\n",
      "[CV] END rf__max_depth=3, rf__n_estimators=10, svm__C=3, svm__gamma=0.1, voting=soft; total time=   1.0s\n",
      "[CV] END rf__max_depth=3, rf__n_estimators=10, svm__C=3, svm__gamma=0.1, voting=soft; total time=   1.1s\n",
      "[CV] END rf__max_depth=3, rf__n_estimators=10, svm__C=3, svm__gamma=0.1, voting=hard; total time=   1.0s\n",
      "[CV] END rf__max_depth=3, rf__n_estimators=10, svm__C=3, svm__gamma=0.1, voting=hard; total time=   1.1s\n",
      "[CV] END rf__max_depth=3, rf__n_estimators=10, svm__C=3, svm__gamma=0.1, voting=hard; total time=   1.1s\n"
     ]
    },
    {
     "name": "stdout",
     "output_type": "stream",
     "text": [
      "[CV] END rf__max_depth=3, rf__n_estimators=10, svm__C=3, svm__gamma=0.3, voting=soft; total time=   1.0s\n",
      "[CV] END rf__max_depth=3, rf__n_estimators=10, svm__C=3, svm__gamma=0.3, voting=soft; total time=   1.0s\n",
      "[CV] END rf__max_depth=3, rf__n_estimators=10, svm__C=3, svm__gamma=0.3, voting=soft; total time=   1.1s\n",
      "[CV] END rf__max_depth=3, rf__n_estimators=10, svm__C=3, svm__gamma=0.3, voting=hard; total time=   1.0s\n",
      "[CV] END rf__max_depth=3, rf__n_estimators=10, svm__C=3, svm__gamma=0.3, voting=hard; total time=   1.1s\n",
      "[CV] END rf__max_depth=3, rf__n_estimators=10, svm__C=3, svm__gamma=0.3, voting=hard; total time=   1.0s\n",
      "[CV] END rf__max_depth=3, rf__n_estimators=10, svm__C=3, svm__gamma=0.5, voting=soft; total time=   1.1s\n",
      "[CV] END rf__max_depth=3, rf__n_estimators=10, svm__C=3, svm__gamma=0.5, voting=soft; total time=   1.1s\n",
      "[CV] END rf__max_depth=3, rf__n_estimators=10, svm__C=3, svm__gamma=0.5, voting=soft; total time=   1.1s\n",
      "[CV] END rf__max_depth=3, rf__n_estimators=10, svm__C=3, svm__gamma=0.5, voting=hard; total time=   1.0s\n",
      "[CV] END rf__max_depth=3, rf__n_estimators=10, svm__C=3, svm__gamma=0.5, voting=hard; total time=   1.1s\n",
      "[CV] END rf__max_depth=3, rf__n_estimators=10, svm__C=3, svm__gamma=0.5, voting=hard; total time=   1.0s\n",
      "[CV] END rf__max_depth=3, rf__n_estimators=10, svm__C=5, svm__gamma=0.1, voting=soft; total time=   1.0s\n",
      "[CV] END rf__max_depth=3, rf__n_estimators=10, svm__C=5, svm__gamma=0.1, voting=soft; total time=   1.1s\n",
      "[CV] END rf__max_depth=3, rf__n_estimators=10, svm__C=5, svm__gamma=0.1, voting=soft; total time=   1.0s\n",
      "[CV] END rf__max_depth=3, rf__n_estimators=10, svm__C=5, svm__gamma=0.1, voting=hard; total time=   1.0s\n",
      "[CV] END rf__max_depth=3, rf__n_estimators=10, svm__C=5, svm__gamma=0.1, voting=hard; total time=   1.1s\n",
      "[CV] END rf__max_depth=3, rf__n_estimators=10, svm__C=5, svm__gamma=0.1, voting=hard; total time=   1.0s\n",
      "[CV] END rf__max_depth=3, rf__n_estimators=10, svm__C=5, svm__gamma=0.3, voting=soft; total time=   1.1s\n",
      "[CV] END rf__max_depth=3, rf__n_estimators=10, svm__C=5, svm__gamma=0.3, voting=soft; total time=   1.0s\n",
      "[CV] END rf__max_depth=3, rf__n_estimators=10, svm__C=5, svm__gamma=0.3, voting=soft; total time=   1.1s\n",
      "[CV] END rf__max_depth=3, rf__n_estimators=10, svm__C=5, svm__gamma=0.3, voting=hard; total time=   1.1s\n",
      "[CV] END rf__max_depth=3, rf__n_estimators=10, svm__C=5, svm__gamma=0.3, voting=hard; total time=   1.1s\n",
      "[CV] END rf__max_depth=3, rf__n_estimators=10, svm__C=5, svm__gamma=0.3, voting=hard; total time=   1.0s\n",
      "[CV] END rf__max_depth=3, rf__n_estimators=10, svm__C=5, svm__gamma=0.5, voting=soft; total time=   1.1s\n",
      "[CV] END rf__max_depth=3, rf__n_estimators=10, svm__C=5, svm__gamma=0.5, voting=soft; total time=   1.0s\n",
      "[CV] END rf__max_depth=3, rf__n_estimators=10, svm__C=5, svm__gamma=0.5, voting=soft; total time=   1.1s\n",
      "[CV] END rf__max_depth=3, rf__n_estimators=10, svm__C=5, svm__gamma=0.5, voting=hard; total time=   1.0s\n",
      "[CV] END rf__max_depth=3, rf__n_estimators=10, svm__C=5, svm__gamma=0.5, voting=hard; total time=   1.1s\n",
      "[CV] END rf__max_depth=3, rf__n_estimators=10, svm__C=5, svm__gamma=0.5, voting=hard; total time=   1.3s\n",
      "[CV] END rf__max_depth=3, rf__n_estimators=10, svm__C=7, svm__gamma=0.1, voting=soft; total time=   1.0s\n",
      "[CV] END rf__max_depth=3, rf__n_estimators=10, svm__C=7, svm__gamma=0.1, voting=soft; total time=   1.1s\n",
      "[CV] END rf__max_depth=3, rf__n_estimators=10, svm__C=7, svm__gamma=0.1, voting=soft; total time=   1.1s\n",
      "[CV] END rf__max_depth=3, rf__n_estimators=10, svm__C=7, svm__gamma=0.1, voting=hard; total time=   1.1s\n",
      "[CV] END rf__max_depth=3, rf__n_estimators=10, svm__C=7, svm__gamma=0.1, voting=hard; total time=   1.0s\n",
      "[CV] END rf__max_depth=3, rf__n_estimators=10, svm__C=7, svm__gamma=0.1, voting=hard; total time=   1.1s\n",
      "[CV] END rf__max_depth=3, rf__n_estimators=10, svm__C=7, svm__gamma=0.3, voting=soft; total time=   1.0s\n",
      "[CV] END rf__max_depth=3, rf__n_estimators=10, svm__C=7, svm__gamma=0.3, voting=soft; total time=   1.1s\n",
      "[CV] END rf__max_depth=3, rf__n_estimators=10, svm__C=7, svm__gamma=0.3, voting=soft; total time=   1.0s\n",
      "[CV] END rf__max_depth=3, rf__n_estimators=10, svm__C=7, svm__gamma=0.3, voting=hard; total time=   1.1s\n",
      "[CV] END rf__max_depth=3, rf__n_estimators=10, svm__C=7, svm__gamma=0.3, voting=hard; total time=   1.1s\n",
      "[CV] END rf__max_depth=3, rf__n_estimators=10, svm__C=7, svm__gamma=0.3, voting=hard; total time=   1.0s\n",
      "[CV] END rf__max_depth=3, rf__n_estimators=10, svm__C=7, svm__gamma=0.5, voting=soft; total time=   1.1s\n",
      "[CV] END rf__max_depth=3, rf__n_estimators=10, svm__C=7, svm__gamma=0.5, voting=soft; total time=   1.1s\n",
      "[CV] END rf__max_depth=3, rf__n_estimators=10, svm__C=7, svm__gamma=0.5, voting=soft; total time=   1.0s\n",
      "[CV] END rf__max_depth=3, rf__n_estimators=10, svm__C=7, svm__gamma=0.5, voting=hard; total time=   1.1s\n",
      "[CV] END rf__max_depth=3, rf__n_estimators=10, svm__C=7, svm__gamma=0.5, voting=hard; total time=   1.1s\n",
      "[CV] END rf__max_depth=3, rf__n_estimators=10, svm__C=7, svm__gamma=0.5, voting=hard; total time=   1.2s\n",
      "[CV] END rf__max_depth=3, rf__n_estimators=10, svm__C=10, svm__gamma=0.1, voting=soft; total time=   1.0s\n",
      "[CV] END rf__max_depth=3, rf__n_estimators=10, svm__C=10, svm__gamma=0.1, voting=soft; total time=   1.1s\n",
      "[CV] END rf__max_depth=3, rf__n_estimators=10, svm__C=10, svm__gamma=0.1, voting=soft; total time=   1.0s\n",
      "[CV] END rf__max_depth=3, rf__n_estimators=10, svm__C=10, svm__gamma=0.1, voting=hard; total time=   1.1s\n",
      "[CV] END rf__max_depth=3, rf__n_estimators=10, svm__C=10, svm__gamma=0.1, voting=hard; total time=   1.0s\n",
      "[CV] END rf__max_depth=3, rf__n_estimators=10, svm__C=10, svm__gamma=0.1, voting=hard; total time=   1.1s\n",
      "[CV] END rf__max_depth=3, rf__n_estimators=10, svm__C=10, svm__gamma=0.3, voting=soft; total time=   1.0s\n",
      "[CV] END rf__max_depth=3, rf__n_estimators=10, svm__C=10, svm__gamma=0.3, voting=soft; total time=   1.1s\n",
      "[CV] END rf__max_depth=3, rf__n_estimators=10, svm__C=10, svm__gamma=0.3, voting=soft; total time=   1.0s\n",
      "[CV] END rf__max_depth=3, rf__n_estimators=10, svm__C=10, svm__gamma=0.3, voting=hard; total time=   1.0s\n",
      "[CV] END rf__max_depth=3, rf__n_estimators=10, svm__C=10, svm__gamma=0.3, voting=hard; total time=   1.1s\n",
      "[CV] END rf__max_depth=3, rf__n_estimators=10, svm__C=10, svm__gamma=0.3, voting=hard; total time=   1.1s\n",
      "[CV] END rf__max_depth=3, rf__n_estimators=10, svm__C=10, svm__gamma=0.5, voting=soft; total time=   1.1s\n",
      "[CV] END rf__max_depth=3, rf__n_estimators=10, svm__C=10, svm__gamma=0.5, voting=soft; total time=   1.2s\n",
      "[CV] END rf__max_depth=3, rf__n_estimators=10, svm__C=10, svm__gamma=0.5, voting=soft; total time=   1.2s\n",
      "[CV] END rf__max_depth=3, rf__n_estimators=10, svm__C=10, svm__gamma=0.5, voting=hard; total time=   1.2s\n",
      "[CV] END rf__max_depth=3, rf__n_estimators=10, svm__C=10, svm__gamma=0.5, voting=hard; total time=   1.2s\n",
      "[CV] END rf__max_depth=3, rf__n_estimators=10, svm__C=10, svm__gamma=0.5, voting=hard; total time=   1.2s\n",
      "[CV] END rf__max_depth=3, rf__n_estimators=20, svm__C=3, svm__gamma=0.1, voting=soft; total time=   1.1s\n",
      "[CV] END rf__max_depth=3, rf__n_estimators=20, svm__C=3, svm__gamma=0.1, voting=soft; total time=   1.2s\n",
      "[CV] END rf__max_depth=3, rf__n_estimators=20, svm__C=3, svm__gamma=0.1, voting=soft; total time=   1.1s\n",
      "[CV] END rf__max_depth=3, rf__n_estimators=20, svm__C=3, svm__gamma=0.1, voting=hard; total time=   1.2s\n",
      "[CV] END rf__max_depth=3, rf__n_estimators=20, svm__C=3, svm__gamma=0.1, voting=hard; total time=   1.1s\n",
      "[CV] END rf__max_depth=3, rf__n_estimators=20, svm__C=3, svm__gamma=0.1, voting=hard; total time=   1.2s\n",
      "[CV] END rf__max_depth=3, rf__n_estimators=20, svm__C=3, svm__gamma=0.3, voting=soft; total time=   1.1s\n",
      "[CV] END rf__max_depth=3, rf__n_estimators=20, svm__C=3, svm__gamma=0.3, voting=soft; total time=   1.2s\n",
      "[CV] END rf__max_depth=3, rf__n_estimators=20, svm__C=3, svm__gamma=0.3, voting=soft; total time=   1.1s\n",
      "[CV] END rf__max_depth=3, rf__n_estimators=20, svm__C=3, svm__gamma=0.3, voting=hard; total time=   1.1s\n",
      "[CV] END rf__max_depth=3, rf__n_estimators=20, svm__C=3, svm__gamma=0.3, voting=hard; total time=   1.1s\n",
      "[CV] END rf__max_depth=3, rf__n_estimators=20, svm__C=3, svm__gamma=0.3, voting=hard; total time=   1.2s\n"
     ]
    },
    {
     "name": "stdout",
     "output_type": "stream",
     "text": [
      "[CV] END rf__max_depth=3, rf__n_estimators=20, svm__C=3, svm__gamma=0.5, voting=soft; total time=   1.1s\n",
      "[CV] END rf__max_depth=3, rf__n_estimators=20, svm__C=3, svm__gamma=0.5, voting=soft; total time=   1.1s\n",
      "[CV] END rf__max_depth=3, rf__n_estimators=20, svm__C=3, svm__gamma=0.5, voting=soft; total time=   1.1s\n",
      "[CV] END rf__max_depth=3, rf__n_estimators=20, svm__C=3, svm__gamma=0.5, voting=hard; total time=   1.1s\n",
      "[CV] END rf__max_depth=3, rf__n_estimators=20, svm__C=3, svm__gamma=0.5, voting=hard; total time=   1.1s\n",
      "[CV] END rf__max_depth=3, rf__n_estimators=20, svm__C=3, svm__gamma=0.5, voting=hard; total time=   1.1s\n",
      "[CV] END rf__max_depth=3, rf__n_estimators=20, svm__C=5, svm__gamma=0.1, voting=soft; total time=   1.1s\n",
      "[CV] END rf__max_depth=3, rf__n_estimators=20, svm__C=5, svm__gamma=0.1, voting=soft; total time=   1.2s\n",
      "[CV] END rf__max_depth=3, rf__n_estimators=20, svm__C=5, svm__gamma=0.1, voting=soft; total time=   1.1s\n",
      "[CV] END rf__max_depth=3, rf__n_estimators=20, svm__C=5, svm__gamma=0.1, voting=hard; total time=   1.1s\n",
      "[CV] END rf__max_depth=3, rf__n_estimators=20, svm__C=5, svm__gamma=0.1, voting=hard; total time=   1.1s\n",
      "[CV] END rf__max_depth=3, rf__n_estimators=20, svm__C=5, svm__gamma=0.1, voting=hard; total time=   1.2s\n",
      "[CV] END rf__max_depth=3, rf__n_estimators=20, svm__C=5, svm__gamma=0.3, voting=soft; total time=   1.1s\n",
      "[CV] END rf__max_depth=3, rf__n_estimators=20, svm__C=5, svm__gamma=0.3, voting=soft; total time=   1.1s\n",
      "[CV] END rf__max_depth=3, rf__n_estimators=20, svm__C=5, svm__gamma=0.3, voting=soft; total time=   1.1s\n",
      "[CV] END rf__max_depth=3, rf__n_estimators=20, svm__C=5, svm__gamma=0.3, voting=hard; total time=   1.1s\n",
      "[CV] END rf__max_depth=3, rf__n_estimators=20, svm__C=5, svm__gamma=0.3, voting=hard; total time=   1.1s\n",
      "[CV] END rf__max_depth=3, rf__n_estimators=20, svm__C=5, svm__gamma=0.3, voting=hard; total time=   1.1s\n",
      "[CV] END rf__max_depth=3, rf__n_estimators=20, svm__C=5, svm__gamma=0.5, voting=soft; total time=   1.1s\n",
      "[CV] END rf__max_depth=3, rf__n_estimators=20, svm__C=5, svm__gamma=0.5, voting=soft; total time=   1.2s\n",
      "[CV] END rf__max_depth=3, rf__n_estimators=20, svm__C=5, svm__gamma=0.5, voting=soft; total time=   1.2s\n",
      "[CV] END rf__max_depth=3, rf__n_estimators=20, svm__C=5, svm__gamma=0.5, voting=hard; total time=   1.1s\n",
      "[CV] END rf__max_depth=3, rf__n_estimators=20, svm__C=5, svm__gamma=0.5, voting=hard; total time=   1.2s\n",
      "[CV] END rf__max_depth=3, rf__n_estimators=20, svm__C=5, svm__gamma=0.5, voting=hard; total time=   1.2s\n",
      "[CV] END rf__max_depth=3, rf__n_estimators=20, svm__C=7, svm__gamma=0.1, voting=soft; total time=   1.0s\n",
      "[CV] END rf__max_depth=3, rf__n_estimators=20, svm__C=7, svm__gamma=0.1, voting=soft; total time=   1.1s\n",
      "[CV] END rf__max_depth=3, rf__n_estimators=20, svm__C=7, svm__gamma=0.1, voting=soft; total time=   1.1s\n",
      "[CV] END rf__max_depth=3, rf__n_estimators=20, svm__C=7, svm__gamma=0.1, voting=hard; total time=   1.1s\n",
      "[CV] END rf__max_depth=3, rf__n_estimators=20, svm__C=7, svm__gamma=0.1, voting=hard; total time=   1.1s\n",
      "[CV] END rf__max_depth=3, rf__n_estimators=20, svm__C=7, svm__gamma=0.1, voting=hard; total time=   1.1s\n",
      "[CV] END rf__max_depth=3, rf__n_estimators=20, svm__C=7, svm__gamma=0.3, voting=soft; total time=   1.1s\n",
      "[CV] END rf__max_depth=3, rf__n_estimators=20, svm__C=7, svm__gamma=0.3, voting=soft; total time=   1.1s\n",
      "[CV] END rf__max_depth=3, rf__n_estimators=20, svm__C=7, svm__gamma=0.3, voting=soft; total time=   1.1s\n",
      "[CV] END rf__max_depth=3, rf__n_estimators=20, svm__C=7, svm__gamma=0.3, voting=hard; total time=   1.2s\n",
      "[CV] END rf__max_depth=3, rf__n_estimators=20, svm__C=7, svm__gamma=0.3, voting=hard; total time=   1.1s\n",
      "[CV] END rf__max_depth=3, rf__n_estimators=20, svm__C=7, svm__gamma=0.3, voting=hard; total time=   1.1s\n",
      "[CV] END rf__max_depth=3, rf__n_estimators=20, svm__C=7, svm__gamma=0.5, voting=soft; total time=   1.1s\n",
      "[CV] END rf__max_depth=3, rf__n_estimators=20, svm__C=7, svm__gamma=0.5, voting=soft; total time=   1.2s\n",
      "[CV] END rf__max_depth=3, rf__n_estimators=20, svm__C=7, svm__gamma=0.5, voting=soft; total time=   1.3s\n",
      "[CV] END rf__max_depth=3, rf__n_estimators=20, svm__C=7, svm__gamma=0.5, voting=hard; total time=   1.2s\n",
      "[CV] END rf__max_depth=3, rf__n_estimators=20, svm__C=7, svm__gamma=0.5, voting=hard; total time=   1.2s\n",
      "[CV] END rf__max_depth=3, rf__n_estimators=20, svm__C=7, svm__gamma=0.5, voting=hard; total time=   1.2s\n",
      "[CV] END rf__max_depth=3, rf__n_estimators=20, svm__C=10, svm__gamma=0.1, voting=soft; total time=   1.1s\n",
      "[CV] END rf__max_depth=3, rf__n_estimators=20, svm__C=10, svm__gamma=0.1, voting=soft; total time=   1.1s\n",
      "[CV] END rf__max_depth=3, rf__n_estimators=20, svm__C=10, svm__gamma=0.1, voting=soft; total time=   1.1s\n",
      "[CV] END rf__max_depth=3, rf__n_estimators=20, svm__C=10, svm__gamma=0.1, voting=hard; total time=   1.1s\n",
      "[CV] END rf__max_depth=3, rf__n_estimators=20, svm__C=10, svm__gamma=0.1, voting=hard; total time=   1.1s\n",
      "[CV] END rf__max_depth=3, rf__n_estimators=20, svm__C=10, svm__gamma=0.1, voting=hard; total time=   1.1s\n",
      "[CV] END rf__max_depth=3, rf__n_estimators=20, svm__C=10, svm__gamma=0.3, voting=soft; total time=   1.1s\n",
      "[CV] END rf__max_depth=3, rf__n_estimators=20, svm__C=10, svm__gamma=0.3, voting=soft; total time=   1.1s\n",
      "[CV] END rf__max_depth=3, rf__n_estimators=20, svm__C=10, svm__gamma=0.3, voting=soft; total time=   1.1s\n",
      "[CV] END rf__max_depth=3, rf__n_estimators=20, svm__C=10, svm__gamma=0.3, voting=hard; total time=   1.2s\n",
      "[CV] END rf__max_depth=3, rf__n_estimators=20, svm__C=10, svm__gamma=0.3, voting=hard; total time=   1.1s\n",
      "[CV] END rf__max_depth=3, rf__n_estimators=20, svm__C=10, svm__gamma=0.3, voting=hard; total time=   1.1s\n",
      "[CV] END rf__max_depth=3, rf__n_estimators=20, svm__C=10, svm__gamma=0.5, voting=soft; total time=   1.2s\n",
      "[CV] END rf__max_depth=3, rf__n_estimators=20, svm__C=10, svm__gamma=0.5, voting=soft; total time=   1.3s\n",
      "[CV] END rf__max_depth=3, rf__n_estimators=20, svm__C=10, svm__gamma=0.5, voting=soft; total time=   1.2s\n",
      "[CV] END rf__max_depth=3, rf__n_estimators=20, svm__C=10, svm__gamma=0.5, voting=hard; total time=   1.2s\n",
      "[CV] END rf__max_depth=3, rf__n_estimators=20, svm__C=10, svm__gamma=0.5, voting=hard; total time=   1.2s\n",
      "[CV] END rf__max_depth=3, rf__n_estimators=20, svm__C=10, svm__gamma=0.5, voting=hard; total time=   1.2s\n",
      "[CV] END rf__max_depth=5, rf__n_estimators=5, svm__C=3, svm__gamma=0.1, voting=soft; total time=   1.0s\n",
      "[CV] END rf__max_depth=5, rf__n_estimators=5, svm__C=3, svm__gamma=0.1, voting=soft; total time=   1.1s\n",
      "[CV] END rf__max_depth=5, rf__n_estimators=5, svm__C=3, svm__gamma=0.1, voting=soft; total time=   1.0s\n",
      "[CV] END rf__max_depth=5, rf__n_estimators=5, svm__C=3, svm__gamma=0.1, voting=hard; total time=   1.1s\n",
      "[CV] END rf__max_depth=5, rf__n_estimators=5, svm__C=3, svm__gamma=0.1, voting=hard; total time=   1.0s\n",
      "[CV] END rf__max_depth=5, rf__n_estimators=5, svm__C=3, svm__gamma=0.1, voting=hard; total time=   1.0s\n",
      "[CV] END rf__max_depth=5, rf__n_estimators=5, svm__C=3, svm__gamma=0.3, voting=soft; total time=   1.0s\n",
      "[CV] END rf__max_depth=5, rf__n_estimators=5, svm__C=3, svm__gamma=0.3, voting=soft; total time=   1.1s\n",
      "[CV] END rf__max_depth=5, rf__n_estimators=5, svm__C=3, svm__gamma=0.3, voting=soft; total time=   1.0s\n",
      "[CV] END rf__max_depth=5, rf__n_estimators=5, svm__C=3, svm__gamma=0.3, voting=hard; total time=   1.0s\n",
      "[CV] END rf__max_depth=5, rf__n_estimators=5, svm__C=3, svm__gamma=0.3, voting=hard; total time=   1.0s\n",
      "[CV] END rf__max_depth=5, rf__n_estimators=5, svm__C=3, svm__gamma=0.3, voting=hard; total time=   1.0s\n",
      "[CV] END rf__max_depth=5, rf__n_estimators=5, svm__C=3, svm__gamma=0.5, voting=soft; total time=   1.0s\n",
      "[CV] END rf__max_depth=5, rf__n_estimators=5, svm__C=3, svm__gamma=0.5, voting=soft; total time=   0.5s\n",
      "[CV] END rf__max_depth=5, rf__n_estimators=5, svm__C=3, svm__gamma=0.5, voting=soft; total time=   1.0s\n",
      "[CV] END rf__max_depth=5, rf__n_estimators=5, svm__C=3, svm__gamma=0.5, voting=hard; total time=   1.0s\n",
      "[CV] END rf__max_depth=5, rf__n_estimators=5, svm__C=3, svm__gamma=0.5, voting=hard; total time=   1.0s\n",
      "[CV] END rf__max_depth=5, rf__n_estimators=5, svm__C=3, svm__gamma=0.5, voting=hard; total time=   1.0s\n",
      "[CV] END rf__max_depth=5, rf__n_estimators=5, svm__C=5, svm__gamma=0.1, voting=soft; total time=   1.0s\n"
     ]
    },
    {
     "name": "stdout",
     "output_type": "stream",
     "text": [
      "[CV] END rf__max_depth=5, rf__n_estimators=5, svm__C=5, svm__gamma=0.1, voting=soft; total time=   1.0s\n",
      "[CV] END rf__max_depth=5, rf__n_estimators=5, svm__C=5, svm__gamma=0.1, voting=soft; total time=   1.0s\n",
      "[CV] END rf__max_depth=5, rf__n_estimators=5, svm__C=5, svm__gamma=0.1, voting=hard; total time=   1.0s\n",
      "[CV] END rf__max_depth=5, rf__n_estimators=5, svm__C=5, svm__gamma=0.1, voting=hard; total time=   1.0s\n",
      "[CV] END rf__max_depth=5, rf__n_estimators=5, svm__C=5, svm__gamma=0.1, voting=hard; total time=   1.0s\n",
      "[CV] END rf__max_depth=5, rf__n_estimators=5, svm__C=5, svm__gamma=0.3, voting=soft; total time=   1.0s\n",
      "[CV] END rf__max_depth=5, rf__n_estimators=5, svm__C=5, svm__gamma=0.3, voting=soft; total time=   1.1s\n",
      "[CV] END rf__max_depth=5, rf__n_estimators=5, svm__C=5, svm__gamma=0.3, voting=soft; total time=   1.0s\n",
      "[CV] END rf__max_depth=5, rf__n_estimators=5, svm__C=5, svm__gamma=0.3, voting=hard; total time=   1.0s\n",
      "[CV] END rf__max_depth=5, rf__n_estimators=5, svm__C=5, svm__gamma=0.3, voting=hard; total time=   1.0s\n",
      "[CV] END rf__max_depth=5, rf__n_estimators=5, svm__C=5, svm__gamma=0.3, voting=hard; total time=   1.0s\n",
      "[CV] END rf__max_depth=5, rf__n_estimators=5, svm__C=5, svm__gamma=0.5, voting=soft; total time=   1.0s\n",
      "[CV] END rf__max_depth=5, rf__n_estimators=5, svm__C=5, svm__gamma=0.5, voting=soft; total time=   1.1s\n",
      "[CV] END rf__max_depth=5, rf__n_estimators=5, svm__C=5, svm__gamma=0.5, voting=soft; total time=   1.0s\n",
      "[CV] END rf__max_depth=5, rf__n_estimators=5, svm__C=5, svm__gamma=0.5, voting=hard; total time=   1.1s\n",
      "[CV] END rf__max_depth=5, rf__n_estimators=5, svm__C=5, svm__gamma=0.5, voting=hard; total time=   1.0s\n",
      "[CV] END rf__max_depth=5, rf__n_estimators=5, svm__C=5, svm__gamma=0.5, voting=hard; total time=   1.0s\n",
      "[CV] END rf__max_depth=5, rf__n_estimators=5, svm__C=7, svm__gamma=0.1, voting=soft; total time=   1.0s\n",
      "[CV] END rf__max_depth=5, rf__n_estimators=5, svm__C=7, svm__gamma=0.1, voting=soft; total time=   1.0s\n",
      "[CV] END rf__max_depth=5, rf__n_estimators=5, svm__C=7, svm__gamma=0.1, voting=soft; total time=   1.0s\n",
      "[CV] END rf__max_depth=5, rf__n_estimators=5, svm__C=7, svm__gamma=0.1, voting=hard; total time=   1.0s\n",
      "[CV] END rf__max_depth=5, rf__n_estimators=5, svm__C=7, svm__gamma=0.1, voting=hard; total time=   1.0s\n",
      "[CV] END rf__max_depth=5, rf__n_estimators=5, svm__C=7, svm__gamma=0.1, voting=hard; total time=   1.0s\n",
      "[CV] END rf__max_depth=5, rf__n_estimators=5, svm__C=7, svm__gamma=0.3, voting=soft; total time=   1.0s\n",
      "[CV] END rf__max_depth=5, rf__n_estimators=5, svm__C=7, svm__gamma=0.3, voting=soft; total time=   1.0s\n",
      "[CV] END rf__max_depth=5, rf__n_estimators=5, svm__C=7, svm__gamma=0.3, voting=soft; total time=   1.0s\n",
      "[CV] END rf__max_depth=5, rf__n_estimators=5, svm__C=7, svm__gamma=0.3, voting=hard; total time=   1.0s\n",
      "[CV] END rf__max_depth=5, rf__n_estimators=5, svm__C=7, svm__gamma=0.3, voting=hard; total time=   1.0s\n",
      "[CV] END rf__max_depth=5, rf__n_estimators=5, svm__C=7, svm__gamma=0.3, voting=hard; total time=   1.0s\n",
      "[CV] END rf__max_depth=5, rf__n_estimators=5, svm__C=7, svm__gamma=0.5, voting=soft; total time=   1.1s\n",
      "[CV] END rf__max_depth=5, rf__n_estimators=5, svm__C=7, svm__gamma=0.5, voting=soft; total time=   1.1s\n",
      "[CV] END rf__max_depth=5, rf__n_estimators=5, svm__C=7, svm__gamma=0.5, voting=soft; total time=   1.1s\n",
      "[CV] END rf__max_depth=5, rf__n_estimators=5, svm__C=7, svm__gamma=0.5, voting=hard; total time=   1.1s\n",
      "[CV] END rf__max_depth=5, rf__n_estimators=5, svm__C=7, svm__gamma=0.5, voting=hard; total time=   1.1s\n",
      "[CV] END rf__max_depth=5, rf__n_estimators=5, svm__C=7, svm__gamma=0.5, voting=hard; total time=   1.1s\n",
      "[CV] END rf__max_depth=5, rf__n_estimators=5, svm__C=10, svm__gamma=0.1, voting=soft; total time=   0.9s\n",
      "[CV] END rf__max_depth=5, rf__n_estimators=5, svm__C=10, svm__gamma=0.1, voting=soft; total time=   1.0s\n",
      "[CV] END rf__max_depth=5, rf__n_estimators=5, svm__C=10, svm__gamma=0.1, voting=soft; total time=   1.0s\n",
      "[CV] END rf__max_depth=5, rf__n_estimators=5, svm__C=10, svm__gamma=0.1, voting=hard; total time=   1.0s\n",
      "[CV] END rf__max_depth=5, rf__n_estimators=5, svm__C=10, svm__gamma=0.1, voting=hard; total time=   1.0s\n",
      "[CV] END rf__max_depth=5, rf__n_estimators=5, svm__C=10, svm__gamma=0.1, voting=hard; total time=   1.0s\n",
      "[CV] END rf__max_depth=5, rf__n_estimators=5, svm__C=10, svm__gamma=0.3, voting=soft; total time=   1.0s\n",
      "[CV] END rf__max_depth=5, rf__n_estimators=5, svm__C=10, svm__gamma=0.3, voting=soft; total time=   1.1s\n",
      "[CV] END rf__max_depth=5, rf__n_estimators=5, svm__C=10, svm__gamma=0.3, voting=soft; total time=   1.0s\n",
      "[CV] END rf__max_depth=5, rf__n_estimators=5, svm__C=10, svm__gamma=0.3, voting=hard; total time=   1.1s\n",
      "[CV] END rf__max_depth=5, rf__n_estimators=5, svm__C=10, svm__gamma=0.3, voting=hard; total time=   1.1s\n",
      "[CV] END rf__max_depth=5, rf__n_estimators=5, svm__C=10, svm__gamma=0.3, voting=hard; total time=   1.0s\n",
      "[CV] END rf__max_depth=5, rf__n_estimators=5, svm__C=10, svm__gamma=0.5, voting=soft; total time=   1.1s\n",
      "[CV] END rf__max_depth=5, rf__n_estimators=5, svm__C=10, svm__gamma=0.5, voting=soft; total time=   1.2s\n",
      "[CV] END rf__max_depth=5, rf__n_estimators=5, svm__C=10, svm__gamma=0.5, voting=soft; total time=   1.1s\n",
      "[CV] END rf__max_depth=5, rf__n_estimators=5, svm__C=10, svm__gamma=0.5, voting=hard; total time=   1.1s\n",
      "[CV] END rf__max_depth=5, rf__n_estimators=5, svm__C=10, svm__gamma=0.5, voting=hard; total time=   1.2s\n",
      "[CV] END rf__max_depth=5, rf__n_estimators=5, svm__C=10, svm__gamma=0.5, voting=hard; total time=   1.1s\n",
      "[CV] END rf__max_depth=5, rf__n_estimators=10, svm__C=3, svm__gamma=0.1, voting=soft; total time=   1.1s\n",
      "[CV] END rf__max_depth=5, rf__n_estimators=10, svm__C=3, svm__gamma=0.1, voting=soft; total time=   1.1s\n",
      "[CV] END rf__max_depth=5, rf__n_estimators=10, svm__C=3, svm__gamma=0.1, voting=soft; total time=   1.1s\n",
      "[CV] END rf__max_depth=5, rf__n_estimators=10, svm__C=3, svm__gamma=0.1, voting=hard; total time=   1.1s\n",
      "[CV] END rf__max_depth=5, rf__n_estimators=10, svm__C=3, svm__gamma=0.1, voting=hard; total time=   1.1s\n",
      "[CV] END rf__max_depth=5, rf__n_estimators=10, svm__C=3, svm__gamma=0.1, voting=hard; total time=   1.1s\n",
      "[CV] END rf__max_depth=5, rf__n_estimators=10, svm__C=3, svm__gamma=0.3, voting=soft; total time=   1.1s\n",
      "[CV] END rf__max_depth=5, rf__n_estimators=10, svm__C=3, svm__gamma=0.3, voting=soft; total time=   1.0s\n",
      "[CV] END rf__max_depth=5, rf__n_estimators=10, svm__C=3, svm__gamma=0.3, voting=soft; total time=   1.1s\n",
      "[CV] END rf__max_depth=5, rf__n_estimators=10, svm__C=3, svm__gamma=0.3, voting=hard; total time=   1.0s\n",
      "[CV] END rf__max_depth=5, rf__n_estimators=10, svm__C=3, svm__gamma=0.3, voting=hard; total time=   1.1s\n",
      "[CV] END rf__max_depth=5, rf__n_estimators=10, svm__C=3, svm__gamma=0.3, voting=hard; total time=   1.0s\n",
      "[CV] END rf__max_depth=5, rf__n_estimators=10, svm__C=3, svm__gamma=0.5, voting=soft; total time=   1.1s\n",
      "[CV] END rf__max_depth=5, rf__n_estimators=10, svm__C=3, svm__gamma=0.5, voting=soft; total time=   1.1s\n",
      "[CV] END rf__max_depth=5, rf__n_estimators=10, svm__C=3, svm__gamma=0.5, voting=soft; total time=   1.0s\n",
      "[CV] END rf__max_depth=5, rf__n_estimators=10, svm__C=3, svm__gamma=0.5, voting=hard; total time=   1.0s\n",
      "[CV] END rf__max_depth=5, rf__n_estimators=10, svm__C=3, svm__gamma=0.5, voting=hard; total time=   1.1s\n",
      "[CV] END rf__max_depth=5, rf__n_estimators=10, svm__C=3, svm__gamma=0.5, voting=hard; total time=   1.0s\n",
      "[CV] END rf__max_depth=5, rf__n_estimators=10, svm__C=5, svm__gamma=0.1, voting=soft; total time=   1.1s\n",
      "[CV] END rf__max_depth=5, rf__n_estimators=10, svm__C=5, svm__gamma=0.1, voting=soft; total time=   1.1s\n",
      "[CV] END rf__max_depth=5, rf__n_estimators=10, svm__C=5, svm__gamma=0.1, voting=soft; total time=   1.1s\n",
      "[CV] END rf__max_depth=5, rf__n_estimators=10, svm__C=5, svm__gamma=0.1, voting=hard; total time=   1.0s\n",
      "[CV] END rf__max_depth=5, rf__n_estimators=10, svm__C=5, svm__gamma=0.1, voting=hard; total time=   1.1s\n",
      "[CV] END rf__max_depth=5, rf__n_estimators=10, svm__C=5, svm__gamma=0.1, voting=hard; total time=   1.1s\n",
      "[CV] END rf__max_depth=5, rf__n_estimators=10, svm__C=5, svm__gamma=0.3, voting=soft; total time=   1.1s\n",
      "[CV] END rf__max_depth=5, rf__n_estimators=10, svm__C=5, svm__gamma=0.3, voting=soft; total time=   1.1s\n"
     ]
    },
    {
     "name": "stdout",
     "output_type": "stream",
     "text": [
      "[CV] END rf__max_depth=5, rf__n_estimators=10, svm__C=5, svm__gamma=0.3, voting=soft; total time=   1.1s\n",
      "[CV] END rf__max_depth=5, rf__n_estimators=10, svm__C=5, svm__gamma=0.3, voting=hard; total time=   1.1s\n",
      "[CV] END rf__max_depth=5, rf__n_estimators=10, svm__C=5, svm__gamma=0.3, voting=hard; total time=   1.2s\n",
      "[CV] END rf__max_depth=5, rf__n_estimators=10, svm__C=5, svm__gamma=0.3, voting=hard; total time=   1.0s\n",
      "[CV] END rf__max_depth=5, rf__n_estimators=10, svm__C=5, svm__gamma=0.5, voting=soft; total time=   1.1s\n",
      "[CV] END rf__max_depth=5, rf__n_estimators=10, svm__C=5, svm__gamma=0.5, voting=soft; total time=   1.1s\n",
      "[CV] END rf__max_depth=5, rf__n_estimators=10, svm__C=5, svm__gamma=0.5, voting=soft; total time=   1.1s\n",
      "[CV] END rf__max_depth=5, rf__n_estimators=10, svm__C=5, svm__gamma=0.5, voting=hard; total time=   1.0s\n",
      "[CV] END rf__max_depth=5, rf__n_estimators=10, svm__C=5, svm__gamma=0.5, voting=hard; total time=   1.1s\n",
      "[CV] END rf__max_depth=5, rf__n_estimators=10, svm__C=5, svm__gamma=0.5, voting=hard; total time=   1.1s\n",
      "[CV] END rf__max_depth=5, rf__n_estimators=10, svm__C=7, svm__gamma=0.1, voting=soft; total time=   1.0s\n",
      "[CV] END rf__max_depth=5, rf__n_estimators=10, svm__C=7, svm__gamma=0.1, voting=soft; total time=   1.0s\n",
      "[CV] END rf__max_depth=5, rf__n_estimators=10, svm__C=7, svm__gamma=0.1, voting=soft; total time=   1.1s\n",
      "[CV] END rf__max_depth=5, rf__n_estimators=10, svm__C=7, svm__gamma=0.1, voting=hard; total time=   1.0s\n",
      "[CV] END rf__max_depth=5, rf__n_estimators=10, svm__C=7, svm__gamma=0.1, voting=hard; total time=   1.1s\n",
      "[CV] END rf__max_depth=5, rf__n_estimators=10, svm__C=7, svm__gamma=0.1, voting=hard; total time=   1.1s\n",
      "[CV] END rf__max_depth=5, rf__n_estimators=10, svm__C=7, svm__gamma=0.3, voting=soft; total time=   1.1s\n",
      "[CV] END rf__max_depth=5, rf__n_estimators=10, svm__C=7, svm__gamma=0.3, voting=soft; total time=   1.1s\n",
      "[CV] END rf__max_depth=5, rf__n_estimators=10, svm__C=7, svm__gamma=0.3, voting=soft; total time=   1.1s\n",
      "[CV] END rf__max_depth=5, rf__n_estimators=10, svm__C=7, svm__gamma=0.3, voting=hard; total time=   1.0s\n",
      "[CV] END rf__max_depth=5, rf__n_estimators=10, svm__C=7, svm__gamma=0.3, voting=hard; total time=   1.1s\n",
      "[CV] END rf__max_depth=5, rf__n_estimators=10, svm__C=7, svm__gamma=0.3, voting=hard; total time=   1.0s\n",
      "[CV] END rf__max_depth=5, rf__n_estimators=10, svm__C=7, svm__gamma=0.5, voting=soft; total time=   1.2s\n",
      "[CV] END rf__max_depth=5, rf__n_estimators=10, svm__C=7, svm__gamma=0.5, voting=soft; total time=   1.1s\n",
      "[CV] END rf__max_depth=5, rf__n_estimators=10, svm__C=7, svm__gamma=0.5, voting=soft; total time=   1.1s\n",
      "[CV] END rf__max_depth=5, rf__n_estimators=10, svm__C=7, svm__gamma=0.5, voting=hard; total time=   1.2s\n",
      "[CV] END rf__max_depth=5, rf__n_estimators=10, svm__C=7, svm__gamma=0.5, voting=hard; total time=   1.2s\n",
      "[CV] END rf__max_depth=5, rf__n_estimators=10, svm__C=7, svm__gamma=0.5, voting=hard; total time=   1.1s\n",
      "[CV] END rf__max_depth=5, rf__n_estimators=10, svm__C=10, svm__gamma=0.1, voting=soft; total time=   1.1s\n",
      "[CV] END rf__max_depth=5, rf__n_estimators=10, svm__C=10, svm__gamma=0.1, voting=soft; total time=   1.0s\n",
      "[CV] END rf__max_depth=5, rf__n_estimators=10, svm__C=10, svm__gamma=0.1, voting=soft; total time=   1.1s\n",
      "[CV] END rf__max_depth=5, rf__n_estimators=10, svm__C=10, svm__gamma=0.1, voting=hard; total time=   1.0s\n",
      "[CV] END rf__max_depth=5, rf__n_estimators=10, svm__C=10, svm__gamma=0.1, voting=hard; total time=   1.1s\n",
      "[CV] END rf__max_depth=5, rf__n_estimators=10, svm__C=10, svm__gamma=0.1, voting=hard; total time=   1.1s\n",
      "[CV] END rf__max_depth=5, rf__n_estimators=10, svm__C=10, svm__gamma=0.3, voting=soft; total time=   1.1s\n",
      "[CV] END rf__max_depth=5, rf__n_estimators=10, svm__C=10, svm__gamma=0.3, voting=soft; total time=   1.1s\n",
      "[CV] END rf__max_depth=5, rf__n_estimators=10, svm__C=10, svm__gamma=0.3, voting=soft; total time=   1.1s\n",
      "[CV] END rf__max_depth=5, rf__n_estimators=10, svm__C=10, svm__gamma=0.3, voting=hard; total time=   1.1s\n",
      "[CV] END rf__max_depth=5, rf__n_estimators=10, svm__C=10, svm__gamma=0.3, voting=hard; total time=   1.1s\n",
      "[CV] END rf__max_depth=5, rf__n_estimators=10, svm__C=10, svm__gamma=0.3, voting=hard; total time=   1.1s\n",
      "[CV] END rf__max_depth=5, rf__n_estimators=10, svm__C=10, svm__gamma=0.5, voting=soft; total time=   1.2s\n",
      "[CV] END rf__max_depth=5, rf__n_estimators=10, svm__C=10, svm__gamma=0.5, voting=soft; total time=   1.2s\n",
      "[CV] END rf__max_depth=5, rf__n_estimators=10, svm__C=10, svm__gamma=0.5, voting=soft; total time=   1.2s\n",
      "[CV] END rf__max_depth=5, rf__n_estimators=10, svm__C=10, svm__gamma=0.5, voting=hard; total time=   1.2s\n",
      "[CV] END rf__max_depth=5, rf__n_estimators=10, svm__C=10, svm__gamma=0.5, voting=hard; total time=   1.2s\n",
      "[CV] END rf__max_depth=5, rf__n_estimators=10, svm__C=10, svm__gamma=0.5, voting=hard; total time=   1.2s\n",
      "[CV] END rf__max_depth=5, rf__n_estimators=20, svm__C=3, svm__gamma=0.1, voting=soft; total time=   1.2s\n",
      "[CV] END rf__max_depth=5, rf__n_estimators=20, svm__C=3, svm__gamma=0.1, voting=soft; total time=   1.2s\n",
      "[CV] END rf__max_depth=5, rf__n_estimators=20, svm__C=3, svm__gamma=0.1, voting=soft; total time=   1.2s\n",
      "[CV] END rf__max_depth=5, rf__n_estimators=20, svm__C=3, svm__gamma=0.1, voting=hard; total time=   1.2s\n",
      "[CV] END rf__max_depth=5, rf__n_estimators=20, svm__C=3, svm__gamma=0.1, voting=hard; total time=   1.2s\n",
      "[CV] END rf__max_depth=5, rf__n_estimators=20, svm__C=3, svm__gamma=0.1, voting=hard; total time=   1.2s\n",
      "[CV] END rf__max_depth=5, rf__n_estimators=20, svm__C=3, svm__gamma=0.3, voting=soft; total time=   1.2s\n",
      "[CV] END rf__max_depth=5, rf__n_estimators=20, svm__C=3, svm__gamma=0.3, voting=soft; total time=   1.2s\n",
      "[CV] END rf__max_depth=5, rf__n_estimators=20, svm__C=3, svm__gamma=0.3, voting=soft; total time=   1.2s\n",
      "[CV] END rf__max_depth=5, rf__n_estimators=20, svm__C=3, svm__gamma=0.3, voting=hard; total time=   1.1s\n",
      "[CV] END rf__max_depth=5, rf__n_estimators=20, svm__C=3, svm__gamma=0.3, voting=hard; total time=   1.2s\n",
      "[CV] END rf__max_depth=5, rf__n_estimators=20, svm__C=3, svm__gamma=0.3, voting=hard; total time=   1.1s\n",
      "[CV] END rf__max_depth=5, rf__n_estimators=20, svm__C=3, svm__gamma=0.5, voting=soft; total time=   1.2s\n",
      "[CV] END rf__max_depth=5, rf__n_estimators=20, svm__C=3, svm__gamma=0.5, voting=soft; total time=   1.2s\n",
      "[CV] END rf__max_depth=5, rf__n_estimators=20, svm__C=3, svm__gamma=0.5, voting=soft; total time=   1.2s\n",
      "[CV] END rf__max_depth=5, rf__n_estimators=20, svm__C=3, svm__gamma=0.5, voting=hard; total time=   1.2s\n",
      "[CV] END rf__max_depth=5, rf__n_estimators=20, svm__C=3, svm__gamma=0.5, voting=hard; total time=   1.2s\n",
      "[CV] END rf__max_depth=5, rf__n_estimators=20, svm__C=3, svm__gamma=0.5, voting=hard; total time=   1.2s\n",
      "[CV] END rf__max_depth=5, rf__n_estimators=20, svm__C=5, svm__gamma=0.1, voting=soft; total time=   1.2s\n",
      "[CV] END rf__max_depth=5, rf__n_estimators=20, svm__C=5, svm__gamma=0.1, voting=soft; total time=   1.1s\n",
      "[CV] END rf__max_depth=5, rf__n_estimators=20, svm__C=5, svm__gamma=0.1, voting=soft; total time=   1.2s\n",
      "[CV] END rf__max_depth=5, rf__n_estimators=20, svm__C=5, svm__gamma=0.1, voting=hard; total time=   1.1s\n",
      "[CV] END rf__max_depth=5, rf__n_estimators=20, svm__C=5, svm__gamma=0.1, voting=hard; total time=   1.2s\n",
      "[CV] END rf__max_depth=5, rf__n_estimators=20, svm__C=5, svm__gamma=0.1, voting=hard; total time=   1.1s\n",
      "[CV] END rf__max_depth=5, rf__n_estimators=20, svm__C=5, svm__gamma=0.3, voting=soft; total time=   1.2s\n",
      "[CV] END rf__max_depth=5, rf__n_estimators=20, svm__C=5, svm__gamma=0.3, voting=soft; total time=   1.2s\n",
      "[CV] END rf__max_depth=5, rf__n_estimators=20, svm__C=5, svm__gamma=0.3, voting=soft; total time=   1.2s\n",
      "[CV] END rf__max_depth=5, rf__n_estimators=20, svm__C=5, svm__gamma=0.3, voting=hard; total time=   1.1s\n",
      "[CV] END rf__max_depth=5, rf__n_estimators=20, svm__C=5, svm__gamma=0.3, voting=hard; total time=   1.2s\n",
      "[CV] END rf__max_depth=5, rf__n_estimators=20, svm__C=5, svm__gamma=0.3, voting=hard; total time=   1.1s\n",
      "[CV] END rf__max_depth=5, rf__n_estimators=20, svm__C=5, svm__gamma=0.5, voting=soft; total time=   1.2s\n",
      "[CV] END rf__max_depth=5, rf__n_estimators=20, svm__C=5, svm__gamma=0.5, voting=soft; total time=   1.2s\n"
     ]
    },
    {
     "name": "stdout",
     "output_type": "stream",
     "text": [
      "[CV] END rf__max_depth=5, rf__n_estimators=20, svm__C=5, svm__gamma=0.5, voting=soft; total time=   1.2s\n",
      "[CV] END rf__max_depth=5, rf__n_estimators=20, svm__C=5, svm__gamma=0.5, voting=hard; total time=   1.2s\n",
      "[CV] END rf__max_depth=5, rf__n_estimators=20, svm__C=5, svm__gamma=0.5, voting=hard; total time=   1.2s\n",
      "[CV] END rf__max_depth=5, rf__n_estimators=20, svm__C=5, svm__gamma=0.5, voting=hard; total time=   1.2s\n",
      "[CV] END rf__max_depth=5, rf__n_estimators=20, svm__C=7, svm__gamma=0.1, voting=soft; total time=   1.2s\n",
      "[CV] END rf__max_depth=5, rf__n_estimators=20, svm__C=7, svm__gamma=0.1, voting=soft; total time=   1.1s\n",
      "[CV] END rf__max_depth=5, rf__n_estimators=20, svm__C=7, svm__gamma=0.1, voting=soft; total time=   1.2s\n",
      "[CV] END rf__max_depth=5, rf__n_estimators=20, svm__C=7, svm__gamma=0.1, voting=hard; total time=   1.1s\n",
      "[CV] END rf__max_depth=5, rf__n_estimators=20, svm__C=7, svm__gamma=0.1, voting=hard; total time=   1.2s\n",
      "[CV] END rf__max_depth=5, rf__n_estimators=20, svm__C=7, svm__gamma=0.1, voting=hard; total time=   1.1s\n",
      "[CV] END rf__max_depth=5, rf__n_estimators=20, svm__C=7, svm__gamma=0.3, voting=soft; total time=   1.2s\n",
      "[CV] END rf__max_depth=5, rf__n_estimators=20, svm__C=7, svm__gamma=0.3, voting=soft; total time=   1.1s\n",
      "[CV] END rf__max_depth=5, rf__n_estimators=20, svm__C=7, svm__gamma=0.3, voting=soft; total time=   1.2s\n",
      "[CV] END rf__max_depth=5, rf__n_estimators=20, svm__C=7, svm__gamma=0.3, voting=hard; total time=   1.2s\n",
      "[CV] END rf__max_depth=5, rf__n_estimators=20, svm__C=7, svm__gamma=0.3, voting=hard; total time=   1.2s\n",
      "[CV] END rf__max_depth=5, rf__n_estimators=20, svm__C=7, svm__gamma=0.3, voting=hard; total time=   1.2s\n",
      "[CV] END rf__max_depth=5, rf__n_estimators=20, svm__C=7, svm__gamma=0.5, voting=soft; total time=   1.3s\n",
      "[CV] END rf__max_depth=5, rf__n_estimators=20, svm__C=7, svm__gamma=0.5, voting=soft; total time=   1.2s\n",
      "[CV] END rf__max_depth=5, rf__n_estimators=20, svm__C=7, svm__gamma=0.5, voting=soft; total time=   1.2s\n",
      "[CV] END rf__max_depth=5, rf__n_estimators=20, svm__C=7, svm__gamma=0.5, voting=hard; total time=   1.2s\n",
      "[CV] END rf__max_depth=5, rf__n_estimators=20, svm__C=7, svm__gamma=0.5, voting=hard; total time=   1.3s\n",
      "[CV] END rf__max_depth=5, rf__n_estimators=20, svm__C=7, svm__gamma=0.5, voting=hard; total time=   1.2s\n",
      "[CV] END rf__max_depth=5, rf__n_estimators=20, svm__C=10, svm__gamma=0.1, voting=soft; total time=   1.2s\n",
      "[CV] END rf__max_depth=5, rf__n_estimators=20, svm__C=10, svm__gamma=0.1, voting=soft; total time=   1.1s\n",
      "[CV] END rf__max_depth=5, rf__n_estimators=20, svm__C=10, svm__gamma=0.1, voting=soft; total time=   1.2s\n",
      "[CV] END rf__max_depth=5, rf__n_estimators=20, svm__C=10, svm__gamma=0.1, voting=hard; total time=   1.1s\n",
      "[CV] END rf__max_depth=5, rf__n_estimators=20, svm__C=10, svm__gamma=0.1, voting=hard; total time=   1.2s\n",
      "[CV] END rf__max_depth=5, rf__n_estimators=20, svm__C=10, svm__gamma=0.1, voting=hard; total time=   1.1s\n",
      "[CV] END rf__max_depth=5, rf__n_estimators=20, svm__C=10, svm__gamma=0.3, voting=soft; total time=   1.2s\n",
      "[CV] END rf__max_depth=5, rf__n_estimators=20, svm__C=10, svm__gamma=0.3, voting=soft; total time=   1.1s\n",
      "[CV] END rf__max_depth=5, rf__n_estimators=20, svm__C=10, svm__gamma=0.3, voting=soft; total time=   1.2s\n",
      "[CV] END rf__max_depth=5, rf__n_estimators=20, svm__C=10, svm__gamma=0.3, voting=hard; total time=   1.2s\n",
      "[CV] END rf__max_depth=5, rf__n_estimators=20, svm__C=10, svm__gamma=0.3, voting=hard; total time=   1.2s\n",
      "[CV] END rf__max_depth=5, rf__n_estimators=20, svm__C=10, svm__gamma=0.3, voting=hard; total time=   1.2s\n",
      "[CV] END rf__max_depth=5, rf__n_estimators=20, svm__C=10, svm__gamma=0.5, voting=soft; total time=   1.3s\n",
      "[CV] END rf__max_depth=5, rf__n_estimators=20, svm__C=10, svm__gamma=0.5, voting=soft; total time=   1.3s\n",
      "[CV] END rf__max_depth=5, rf__n_estimators=20, svm__C=10, svm__gamma=0.5, voting=soft; total time=   1.3s\n",
      "[CV] END rf__max_depth=5, rf__n_estimators=20, svm__C=10, svm__gamma=0.5, voting=hard; total time=   1.3s\n",
      "[CV] END rf__max_depth=5, rf__n_estimators=20, svm__C=10, svm__gamma=0.5, voting=hard; total time=   1.3s\n",
      "[CV] END rf__max_depth=5, rf__n_estimators=20, svm__C=10, svm__gamma=0.5, voting=hard; total time=   1.3s\n",
      "[CV] END rf__max_depth=7, rf__n_estimators=5, svm__C=3, svm__gamma=0.1, voting=soft; total time=   1.1s\n",
      "[CV] END rf__max_depth=7, rf__n_estimators=5, svm__C=3, svm__gamma=0.1, voting=soft; total time=   1.0s\n",
      "[CV] END rf__max_depth=7, rf__n_estimators=5, svm__C=3, svm__gamma=0.1, voting=soft; total time=   1.1s\n",
      "[CV] END rf__max_depth=7, rf__n_estimators=5, svm__C=3, svm__gamma=0.1, voting=hard; total time=   1.0s\n",
      "[CV] END rf__max_depth=7, rf__n_estimators=5, svm__C=3, svm__gamma=0.1, voting=hard; total time=   1.1s\n",
      "[CV] END rf__max_depth=7, rf__n_estimators=5, svm__C=3, svm__gamma=0.1, voting=hard; total time=   1.0s\n",
      "[CV] END rf__max_depth=7, rf__n_estimators=5, svm__C=3, svm__gamma=0.3, voting=soft; total time=   1.0s\n",
      "[CV] END rf__max_depth=7, rf__n_estimators=5, svm__C=3, svm__gamma=0.3, voting=soft; total time=   1.0s\n",
      "[CV] END rf__max_depth=7, rf__n_estimators=5, svm__C=3, svm__gamma=0.3, voting=soft; total time=   1.1s\n",
      "[CV] END rf__max_depth=7, rf__n_estimators=5, svm__C=3, svm__gamma=0.3, voting=hard; total time=   1.0s\n",
      "[CV] END rf__max_depth=7, rf__n_estimators=5, svm__C=3, svm__gamma=0.3, voting=hard; total time=   1.1s\n",
      "[CV] END rf__max_depth=7, rf__n_estimators=5, svm__C=3, svm__gamma=0.3, voting=hard; total time=   1.2s\n",
      "[CV] END rf__max_depth=7, rf__n_estimators=5, svm__C=3, svm__gamma=0.5, voting=soft; total time=   1.1s\n",
      "[CV] END rf__max_depth=7, rf__n_estimators=5, svm__C=3, svm__gamma=0.5, voting=soft; total time=   1.1s\n",
      "[CV] END rf__max_depth=7, rf__n_estimators=5, svm__C=3, svm__gamma=0.5, voting=soft; total time=   1.1s\n",
      "[CV] END rf__max_depth=7, rf__n_estimators=5, svm__C=3, svm__gamma=0.5, voting=hard; total time=   1.1s\n",
      "[CV] END rf__max_depth=7, rf__n_estimators=5, svm__C=3, svm__gamma=0.5, voting=hard; total time=   1.1s\n",
      "[CV] END rf__max_depth=7, rf__n_estimators=5, svm__C=3, svm__gamma=0.5, voting=hard; total time=   1.0s\n",
      "[CV] END rf__max_depth=7, rf__n_estimators=5, svm__C=5, svm__gamma=0.1, voting=soft; total time=   1.1s\n",
      "[CV] END rf__max_depth=7, rf__n_estimators=5, svm__C=5, svm__gamma=0.1, voting=soft; total time=   1.0s\n",
      "[CV] END rf__max_depth=7, rf__n_estimators=5, svm__C=5, svm__gamma=0.1, voting=soft; total time=   1.1s\n",
      "[CV] END rf__max_depth=7, rf__n_estimators=5, svm__C=5, svm__gamma=0.1, voting=hard; total time=   1.1s\n",
      "[CV] END rf__max_depth=7, rf__n_estimators=5, svm__C=5, svm__gamma=0.1, voting=hard; total time=   1.0s\n",
      "[CV] END rf__max_depth=7, rf__n_estimators=5, svm__C=5, svm__gamma=0.1, voting=hard; total time=   1.0s\n",
      "[CV] END rf__max_depth=7, rf__n_estimators=5, svm__C=5, svm__gamma=0.3, voting=soft; total time=   1.1s\n",
      "[CV] END rf__max_depth=7, rf__n_estimators=5, svm__C=5, svm__gamma=0.3, voting=soft; total time=   1.1s\n",
      "[CV] END rf__max_depth=7, rf__n_estimators=5, svm__C=5, svm__gamma=0.3, voting=soft; total time=   1.0s\n",
      "[CV] END rf__max_depth=7, rf__n_estimators=5, svm__C=5, svm__gamma=0.3, voting=hard; total time=   1.0s\n",
      "[CV] END rf__max_depth=7, rf__n_estimators=5, svm__C=5, svm__gamma=0.3, voting=hard; total time=   1.0s\n",
      "[CV] END rf__max_depth=7, rf__n_estimators=5, svm__C=5, svm__gamma=0.3, voting=hard; total time=   1.0s\n",
      "[CV] END rf__max_depth=7, rf__n_estimators=5, svm__C=5, svm__gamma=0.5, voting=soft; total time=   1.1s\n",
      "[CV] END rf__max_depth=7, rf__n_estimators=5, svm__C=5, svm__gamma=0.5, voting=soft; total time=   1.1s\n",
      "[CV] END rf__max_depth=7, rf__n_estimators=5, svm__C=5, svm__gamma=0.5, voting=soft; total time=   1.1s\n",
      "[CV] END rf__max_depth=7, rf__n_estimators=5, svm__C=5, svm__gamma=0.5, voting=hard; total time=   1.0s\n",
      "[CV] END rf__max_depth=7, rf__n_estimators=5, svm__C=5, svm__gamma=0.5, voting=hard; total time=   1.1s\n",
      "[CV] END rf__max_depth=7, rf__n_estimators=5, svm__C=5, svm__gamma=0.5, voting=hard; total time=   1.1s\n",
      "[CV] END rf__max_depth=7, rf__n_estimators=5, svm__C=7, svm__gamma=0.1, voting=soft; total time=   1.0s\n",
      "[CV] END rf__max_depth=7, rf__n_estimators=5, svm__C=7, svm__gamma=0.1, voting=soft; total time=   1.0s\n",
      "[CV] END rf__max_depth=7, rf__n_estimators=5, svm__C=7, svm__gamma=0.1, voting=soft; total time=   1.1s\n"
     ]
    },
    {
     "name": "stdout",
     "output_type": "stream",
     "text": [
      "[CV] END rf__max_depth=7, rf__n_estimators=5, svm__C=7, svm__gamma=0.1, voting=hard; total time=   1.0s\n",
      "[CV] END rf__max_depth=7, rf__n_estimators=5, svm__C=7, svm__gamma=0.1, voting=hard; total time=   1.0s\n",
      "[CV] END rf__max_depth=7, rf__n_estimators=5, svm__C=7, svm__gamma=0.1, voting=hard; total time=   1.0s\n",
      "[CV] END rf__max_depth=7, rf__n_estimators=5, svm__C=7, svm__gamma=0.3, voting=soft; total time=   1.1s\n",
      "[CV] END rf__max_depth=7, rf__n_estimators=5, svm__C=7, svm__gamma=0.3, voting=soft; total time=   1.0s\n",
      "[CV] END rf__max_depth=7, rf__n_estimators=5, svm__C=7, svm__gamma=0.3, voting=soft; total time=   1.1s\n",
      "[CV] END rf__max_depth=7, rf__n_estimators=5, svm__C=7, svm__gamma=0.3, voting=hard; total time=   1.0s\n",
      "[CV] END rf__max_depth=7, rf__n_estimators=5, svm__C=7, svm__gamma=0.3, voting=hard; total time=   1.0s\n",
      "[CV] END rf__max_depth=7, rf__n_estimators=5, svm__C=7, svm__gamma=0.3, voting=hard; total time=   1.1s\n",
      "[CV] END rf__max_depth=7, rf__n_estimators=5, svm__C=7, svm__gamma=0.5, voting=soft; total time=   1.1s\n",
      "[CV] END rf__max_depth=7, rf__n_estimators=5, svm__C=7, svm__gamma=0.5, voting=soft; total time=   1.1s\n",
      "[CV] END rf__max_depth=7, rf__n_estimators=5, svm__C=7, svm__gamma=0.5, voting=soft; total time=   1.1s\n",
      "[CV] END rf__max_depth=7, rf__n_estimators=5, svm__C=7, svm__gamma=0.5, voting=hard; total time=   1.0s\n",
      "[CV] END rf__max_depth=7, rf__n_estimators=5, svm__C=7, svm__gamma=0.5, voting=hard; total time=   1.1s\n",
      "[CV] END rf__max_depth=7, rf__n_estimators=5, svm__C=7, svm__gamma=0.5, voting=hard; total time=   1.1s\n",
      "[CV] END rf__max_depth=7, rf__n_estimators=5, svm__C=10, svm__gamma=0.1, voting=soft; total time=   1.0s\n",
      "[CV] END rf__max_depth=7, rf__n_estimators=5, svm__C=10, svm__gamma=0.1, voting=soft; total time=   1.1s\n",
      "[CV] END rf__max_depth=7, rf__n_estimators=5, svm__C=10, svm__gamma=0.1, voting=soft; total time=   1.0s\n",
      "[CV] END rf__max_depth=7, rf__n_estimators=5, svm__C=10, svm__gamma=0.1, voting=hard; total time=   1.1s\n",
      "[CV] END rf__max_depth=7, rf__n_estimators=5, svm__C=10, svm__gamma=0.1, voting=hard; total time=   1.0s\n",
      "[CV] END rf__max_depth=7, rf__n_estimators=5, svm__C=10, svm__gamma=0.1, voting=hard; total time=   1.0s\n",
      "[CV] END rf__max_depth=7, rf__n_estimators=5, svm__C=10, svm__gamma=0.3, voting=soft; total time=   1.0s\n",
      "[CV] END rf__max_depth=7, rf__n_estimators=5, svm__C=10, svm__gamma=0.3, voting=soft; total time=   1.1s\n",
      "[CV] END rf__max_depth=7, rf__n_estimators=5, svm__C=10, svm__gamma=0.3, voting=soft; total time=   1.0s\n",
      "[CV] END rf__max_depth=7, rf__n_estimators=5, svm__C=10, svm__gamma=0.3, voting=hard; total time=   1.1s\n",
      "[CV] END rf__max_depth=7, rf__n_estimators=5, svm__C=10, svm__gamma=0.3, voting=hard; total time=   1.0s\n",
      "[CV] END rf__max_depth=7, rf__n_estimators=5, svm__C=10, svm__gamma=0.3, voting=hard; total time=   1.2s\n",
      "[CV] END rf__max_depth=7, rf__n_estimators=5, svm__C=10, svm__gamma=0.5, voting=soft; total time=   1.1s\n",
      "[CV] END rf__max_depth=7, rf__n_estimators=5, svm__C=10, svm__gamma=0.5, voting=soft; total time=   1.2s\n",
      "[CV] END rf__max_depth=7, rf__n_estimators=5, svm__C=10, svm__gamma=0.5, voting=soft; total time=   1.1s\n",
      "[CV] END rf__max_depth=7, rf__n_estimators=5, svm__C=10, svm__gamma=0.5, voting=hard; total time=   1.2s\n",
      "[CV] END rf__max_depth=7, rf__n_estimators=5, svm__C=10, svm__gamma=0.5, voting=hard; total time=   1.1s\n",
      "[CV] END rf__max_depth=7, rf__n_estimators=5, svm__C=10, svm__gamma=0.5, voting=hard; total time=   1.2s\n",
      "[CV] END rf__max_depth=7, rf__n_estimators=10, svm__C=3, svm__gamma=0.1, voting=soft; total time=   1.1s\n",
      "[CV] END rf__max_depth=7, rf__n_estimators=10, svm__C=3, svm__gamma=0.1, voting=soft; total time=   1.2s\n",
      "[CV] END rf__max_depth=7, rf__n_estimators=10, svm__C=3, svm__gamma=0.1, voting=soft; total time=   1.1s\n",
      "[CV] END rf__max_depth=7, rf__n_estimators=10, svm__C=3, svm__gamma=0.1, voting=hard; total time=   1.1s\n",
      "[CV] END rf__max_depth=7, rf__n_estimators=10, svm__C=3, svm__gamma=0.1, voting=hard; total time=   1.1s\n",
      "[CV] END rf__max_depth=7, rf__n_estimators=10, svm__C=3, svm__gamma=0.1, voting=hard; total time=   1.1s\n",
      "[CV] END rf__max_depth=7, rf__n_estimators=10, svm__C=3, svm__gamma=0.3, voting=soft; total time=   1.1s\n",
      "[CV] END rf__max_depth=7, rf__n_estimators=10, svm__C=3, svm__gamma=0.3, voting=soft; total time=   1.1s\n",
      "[CV] END rf__max_depth=7, rf__n_estimators=10, svm__C=3, svm__gamma=0.3, voting=soft; total time=   1.1s\n",
      "[CV] END rf__max_depth=7, rf__n_estimators=10, svm__C=3, svm__gamma=0.3, voting=hard; total time=   1.1s\n",
      "[CV] END rf__max_depth=7, rf__n_estimators=10, svm__C=3, svm__gamma=0.3, voting=hard; total time=   1.1s\n",
      "[CV] END rf__max_depth=7, rf__n_estimators=10, svm__C=3, svm__gamma=0.3, voting=hard; total time=   1.0s\n",
      "[CV] END rf__max_depth=7, rf__n_estimators=10, svm__C=3, svm__gamma=0.5, voting=soft; total time=   1.1s\n",
      "[CV] END rf__max_depth=7, rf__n_estimators=10, svm__C=3, svm__gamma=0.5, voting=soft; total time=   1.0s\n",
      "[CV] END rf__max_depth=7, rf__n_estimators=10, svm__C=3, svm__gamma=0.5, voting=soft; total time=   1.1s\n",
      "[CV] END rf__max_depth=7, rf__n_estimators=10, svm__C=3, svm__gamma=0.5, voting=hard; total time=   1.1s\n",
      "[CV] END rf__max_depth=7, rf__n_estimators=10, svm__C=3, svm__gamma=0.5, voting=hard; total time=   1.1s\n",
      "[CV] END rf__max_depth=7, rf__n_estimators=10, svm__C=3, svm__gamma=0.5, voting=hard; total time=   1.1s\n",
      "[CV] END rf__max_depth=7, rf__n_estimators=10, svm__C=5, svm__gamma=0.1, voting=soft; total time=   1.1s\n",
      "[CV] END rf__max_depth=7, rf__n_estimators=10, svm__C=5, svm__gamma=0.1, voting=soft; total time=   1.1s\n",
      "[CV] END rf__max_depth=7, rf__n_estimators=10, svm__C=5, svm__gamma=0.1, voting=soft; total time=   1.1s\n",
      "[CV] END rf__max_depth=7, rf__n_estimators=10, svm__C=5, svm__gamma=0.1, voting=hard; total time=   1.0s\n",
      "[CV] END rf__max_depth=7, rf__n_estimators=10, svm__C=5, svm__gamma=0.1, voting=hard; total time=   1.1s\n",
      "[CV] END rf__max_depth=7, rf__n_estimators=10, svm__C=5, svm__gamma=0.1, voting=hard; total time=   1.1s\n",
      "[CV] END rf__max_depth=7, rf__n_estimators=10, svm__C=5, svm__gamma=0.3, voting=soft; total time=   1.1s\n",
      "[CV] END rf__max_depth=7, rf__n_estimators=10, svm__C=5, svm__gamma=0.3, voting=soft; total time=   1.1s\n",
      "[CV] END rf__max_depth=7, rf__n_estimators=10, svm__C=5, svm__gamma=0.3, voting=soft; total time=   1.1s\n",
      "[CV] END rf__max_depth=7, rf__n_estimators=10, svm__C=5, svm__gamma=0.3, voting=hard; total time=   1.1s\n",
      "[CV] END rf__max_depth=7, rf__n_estimators=10, svm__C=5, svm__gamma=0.3, voting=hard; total time=   1.1s\n",
      "[CV] END rf__max_depth=7, rf__n_estimators=10, svm__C=5, svm__gamma=0.3, voting=hard; total time=   1.1s\n",
      "[CV] END rf__max_depth=7, rf__n_estimators=10, svm__C=5, svm__gamma=0.5, voting=soft; total time=   1.2s\n",
      "[CV] END rf__max_depth=7, rf__n_estimators=10, svm__C=5, svm__gamma=0.5, voting=soft; total time=   1.2s\n",
      "[CV] END rf__max_depth=7, rf__n_estimators=10, svm__C=5, svm__gamma=0.5, voting=soft; total time=   1.1s\n",
      "[CV] END rf__max_depth=7, rf__n_estimators=10, svm__C=5, svm__gamma=0.5, voting=hard; total time=   1.2s\n",
      "[CV] END rf__max_depth=7, rf__n_estimators=10, svm__C=5, svm__gamma=0.5, voting=hard; total time=   1.1s\n",
      "[CV] END rf__max_depth=7, rf__n_estimators=10, svm__C=5, svm__gamma=0.5, voting=hard; total time=   1.1s\n",
      "[CV] END rf__max_depth=7, rf__n_estimators=10, svm__C=7, svm__gamma=0.1, voting=soft; total time=   1.1s\n",
      "[CV] END rf__max_depth=7, rf__n_estimators=10, svm__C=7, svm__gamma=0.1, voting=soft; total time=   1.1s\n",
      "[CV] END rf__max_depth=7, rf__n_estimators=10, svm__C=7, svm__gamma=0.1, voting=soft; total time=   1.1s\n",
      "[CV] END rf__max_depth=7, rf__n_estimators=10, svm__C=7, svm__gamma=0.1, voting=hard; total time=   1.1s\n",
      "[CV] END rf__max_depth=7, rf__n_estimators=10, svm__C=7, svm__gamma=0.1, voting=hard; total time=   1.1s\n",
      "[CV] END rf__max_depth=7, rf__n_estimators=10, svm__C=7, svm__gamma=0.1, voting=hard; total time=   1.1s\n",
      "[CV] END rf__max_depth=7, rf__n_estimators=10, svm__C=7, svm__gamma=0.3, voting=soft; total time=   1.1s\n",
      "[CV] END rf__max_depth=7, rf__n_estimators=10, svm__C=7, svm__gamma=0.3, voting=soft; total time=   1.0s\n",
      "[CV] END rf__max_depth=7, rf__n_estimators=10, svm__C=7, svm__gamma=0.3, voting=soft; total time=   1.1s\n",
      "[CV] END rf__max_depth=7, rf__n_estimators=10, svm__C=7, svm__gamma=0.3, voting=hard; total time=   0.9s\n"
     ]
    },
    {
     "name": "stdout",
     "output_type": "stream",
     "text": [
      "[CV] END rf__max_depth=7, rf__n_estimators=10, svm__C=7, svm__gamma=0.3, voting=hard; total time=   1.1s\n",
      "[CV] END rf__max_depth=7, rf__n_estimators=10, svm__C=7, svm__gamma=0.3, voting=hard; total time=   1.1s\n",
      "[CV] END rf__max_depth=7, rf__n_estimators=10, svm__C=7, svm__gamma=0.5, voting=soft; total time=   1.1s\n",
      "[CV] END rf__max_depth=7, rf__n_estimators=10, svm__C=7, svm__gamma=0.5, voting=soft; total time=   1.2s\n",
      "[CV] END rf__max_depth=7, rf__n_estimators=10, svm__C=7, svm__gamma=0.5, voting=soft; total time=   1.1s\n",
      "[CV] END rf__max_depth=7, rf__n_estimators=10, svm__C=7, svm__gamma=0.5, voting=hard; total time=   1.2s\n",
      "[CV] END rf__max_depth=7, rf__n_estimators=10, svm__C=7, svm__gamma=0.5, voting=hard; total time=   1.2s\n",
      "[CV] END rf__max_depth=7, rf__n_estimators=10, svm__C=7, svm__gamma=0.5, voting=hard; total time=   1.2s\n",
      "[CV] END rf__max_depth=7, rf__n_estimators=10, svm__C=10, svm__gamma=0.1, voting=soft; total time=   1.1s\n",
      "[CV] END rf__max_depth=7, rf__n_estimators=10, svm__C=10, svm__gamma=0.1, voting=soft; total time=   1.1s\n",
      "[CV] END rf__max_depth=7, rf__n_estimators=10, svm__C=10, svm__gamma=0.1, voting=soft; total time=   1.1s\n",
      "[CV] END rf__max_depth=7, rf__n_estimators=10, svm__C=10, svm__gamma=0.1, voting=hard; total time=   1.1s\n",
      "[CV] END rf__max_depth=7, rf__n_estimators=10, svm__C=10, svm__gamma=0.1, voting=hard; total time=   1.1s\n",
      "[CV] END rf__max_depth=7, rf__n_estimators=10, svm__C=10, svm__gamma=0.1, voting=hard; total time=   1.1s\n",
      "[CV] END rf__max_depth=7, rf__n_estimators=10, svm__C=10, svm__gamma=0.3, voting=soft; total time=   1.1s\n",
      "[CV] END rf__max_depth=7, rf__n_estimators=10, svm__C=10, svm__gamma=0.3, voting=soft; total time=   1.1s\n",
      "[CV] END rf__max_depth=7, rf__n_estimators=10, svm__C=10, svm__gamma=0.3, voting=soft; total time=   1.1s\n",
      "[CV] END rf__max_depth=7, rf__n_estimators=10, svm__C=10, svm__gamma=0.3, voting=hard; total time=   1.1s\n",
      "[CV] END rf__max_depth=7, rf__n_estimators=10, svm__C=10, svm__gamma=0.3, voting=hard; total time=   1.1s\n",
      "[CV] END rf__max_depth=7, rf__n_estimators=10, svm__C=10, svm__gamma=0.3, voting=hard; total time=   1.1s\n",
      "[CV] END rf__max_depth=7, rf__n_estimators=10, svm__C=10, svm__gamma=0.5, voting=soft; total time=   1.2s\n",
      "[CV] END rf__max_depth=7, rf__n_estimators=10, svm__C=10, svm__gamma=0.5, voting=soft; total time=   1.3s\n",
      "[CV] END rf__max_depth=7, rf__n_estimators=10, svm__C=10, svm__gamma=0.5, voting=soft; total time=   1.2s\n",
      "[CV] END rf__max_depth=7, rf__n_estimators=10, svm__C=10, svm__gamma=0.5, voting=hard; total time=   1.2s\n",
      "[CV] END rf__max_depth=7, rf__n_estimators=10, svm__C=10, svm__gamma=0.5, voting=hard; total time=   1.2s\n",
      "[CV] END rf__max_depth=7, rf__n_estimators=10, svm__C=10, svm__gamma=0.5, voting=hard; total time=   1.2s\n",
      "[CV] END rf__max_depth=7, rf__n_estimators=20, svm__C=3, svm__gamma=0.1, voting=soft; total time=   1.3s\n",
      "[CV] END rf__max_depth=7, rf__n_estimators=20, svm__C=3, svm__gamma=0.1, voting=soft; total time=   1.3s\n",
      "[CV] END rf__max_depth=7, rf__n_estimators=20, svm__C=3, svm__gamma=0.1, voting=soft; total time=   1.2s\n",
      "[CV] END rf__max_depth=7, rf__n_estimators=20, svm__C=3, svm__gamma=0.1, voting=hard; total time=   1.2s\n",
      "[CV] END rf__max_depth=7, rf__n_estimators=20, svm__C=3, svm__gamma=0.1, voting=hard; total time=   1.2s\n",
      "[CV] END rf__max_depth=7, rf__n_estimators=20, svm__C=3, svm__gamma=0.1, voting=hard; total time=   1.2s\n",
      "[CV] END rf__max_depth=7, rf__n_estimators=20, svm__C=3, svm__gamma=0.3, voting=soft; total time=   1.2s\n",
      "[CV] END rf__max_depth=7, rf__n_estimators=20, svm__C=3, svm__gamma=0.3, voting=soft; total time=   1.2s\n",
      "[CV] END rf__max_depth=7, rf__n_estimators=20, svm__C=3, svm__gamma=0.3, voting=soft; total time=   1.2s\n",
      "[CV] END rf__max_depth=7, rf__n_estimators=20, svm__C=3, svm__gamma=0.3, voting=hard; total time=   1.2s\n",
      "[CV] END rf__max_depth=7, rf__n_estimators=20, svm__C=3, svm__gamma=0.3, voting=hard; total time=   1.2s\n",
      "[CV] END rf__max_depth=7, rf__n_estimators=20, svm__C=3, svm__gamma=0.3, voting=hard; total time=   1.2s\n",
      "[CV] END rf__max_depth=7, rf__n_estimators=20, svm__C=3, svm__gamma=0.5, voting=soft; total time=   1.2s\n",
      "[CV] END rf__max_depth=7, rf__n_estimators=20, svm__C=3, svm__gamma=0.5, voting=soft; total time=   1.2s\n",
      "[CV] END rf__max_depth=7, rf__n_estimators=20, svm__C=3, svm__gamma=0.5, voting=soft; total time=   1.2s\n",
      "[CV] END rf__max_depth=7, rf__n_estimators=20, svm__C=3, svm__gamma=0.5, voting=hard; total time=   1.2s\n",
      "[CV] END rf__max_depth=7, rf__n_estimators=20, svm__C=3, svm__gamma=0.5, voting=hard; total time=   1.2s\n",
      "[CV] END rf__max_depth=7, rf__n_estimators=20, svm__C=3, svm__gamma=0.5, voting=hard; total time=   1.3s\n",
      "[CV] END rf__max_depth=7, rf__n_estimators=20, svm__C=5, svm__gamma=0.1, voting=soft; total time=   1.2s\n",
      "[CV] END rf__max_depth=7, rf__n_estimators=20, svm__C=5, svm__gamma=0.1, voting=soft; total time=   1.2s\n",
      "[CV] END rf__max_depth=7, rf__n_estimators=20, svm__C=5, svm__gamma=0.1, voting=soft; total time=   1.2s\n",
      "[CV] END rf__max_depth=7, rf__n_estimators=20, svm__C=5, svm__gamma=0.1, voting=hard; total time=   1.2s\n",
      "[CV] END rf__max_depth=7, rf__n_estimators=20, svm__C=5, svm__gamma=0.1, voting=hard; total time=   1.2s\n",
      "[CV] END rf__max_depth=7, rf__n_estimators=20, svm__C=5, svm__gamma=0.1, voting=hard; total time=   1.2s\n",
      "[CV] END rf__max_depth=7, rf__n_estimators=20, svm__C=5, svm__gamma=0.3, voting=soft; total time=   1.2s\n",
      "[CV] END rf__max_depth=7, rf__n_estimators=20, svm__C=5, svm__gamma=0.3, voting=soft; total time=   1.2s\n",
      "[CV] END rf__max_depth=7, rf__n_estimators=20, svm__C=5, svm__gamma=0.3, voting=soft; total time=   1.2s\n",
      "[CV] END rf__max_depth=7, rf__n_estimators=20, svm__C=5, svm__gamma=0.3, voting=hard; total time=   1.2s\n",
      "[CV] END rf__max_depth=7, rf__n_estimators=20, svm__C=5, svm__gamma=0.3, voting=hard; total time=   1.2s\n",
      "[CV] END rf__max_depth=7, rf__n_estimators=20, svm__C=5, svm__gamma=0.3, voting=hard; total time=   1.2s\n",
      "[CV] END rf__max_depth=7, rf__n_estimators=20, svm__C=5, svm__gamma=0.5, voting=soft; total time=   1.2s\n",
      "[CV] END rf__max_depth=7, rf__n_estimators=20, svm__C=5, svm__gamma=0.5, voting=soft; total time=   1.2s\n",
      "[CV] END rf__max_depth=7, rf__n_estimators=20, svm__C=5, svm__gamma=0.5, voting=soft; total time=   1.2s\n",
      "[CV] END rf__max_depth=7, rf__n_estimators=20, svm__C=5, svm__gamma=0.5, voting=hard; total time=   1.2s\n",
      "[CV] END rf__max_depth=7, rf__n_estimators=20, svm__C=5, svm__gamma=0.5, voting=hard; total time=   1.3s\n",
      "[CV] END rf__max_depth=7, rf__n_estimators=20, svm__C=5, svm__gamma=0.5, voting=hard; total time=   1.2s\n",
      "[CV] END rf__max_depth=7, rf__n_estimators=20, svm__C=7, svm__gamma=0.1, voting=soft; total time=   1.2s\n",
      "[CV] END rf__max_depth=7, rf__n_estimators=20, svm__C=7, svm__gamma=0.1, voting=soft; total time=   1.2s\n",
      "[CV] END rf__max_depth=7, rf__n_estimators=20, svm__C=7, svm__gamma=0.1, voting=soft; total time=   1.2s\n",
      "[CV] END rf__max_depth=7, rf__n_estimators=20, svm__C=7, svm__gamma=0.1, voting=hard; total time=   1.2s\n",
      "[CV] END rf__max_depth=7, rf__n_estimators=20, svm__C=7, svm__gamma=0.1, voting=hard; total time=   1.2s\n",
      "[CV] END rf__max_depth=7, rf__n_estimators=20, svm__C=7, svm__gamma=0.1, voting=hard; total time=   1.2s\n",
      "[CV] END rf__max_depth=7, rf__n_estimators=20, svm__C=7, svm__gamma=0.3, voting=soft; total time=   1.2s\n",
      "[CV] END rf__max_depth=7, rf__n_estimators=20, svm__C=7, svm__gamma=0.3, voting=soft; total time=   1.1s\n",
      "[CV] END rf__max_depth=7, rf__n_estimators=20, svm__C=7, svm__gamma=0.3, voting=soft; total time=   1.2s\n",
      "[CV] END rf__max_depth=7, rf__n_estimators=20, svm__C=7, svm__gamma=0.3, voting=hard; total time=   1.2s\n",
      "[CV] END rf__max_depth=7, rf__n_estimators=20, svm__C=7, svm__gamma=0.3, voting=hard; total time=   1.2s\n",
      "[CV] END rf__max_depth=7, rf__n_estimators=20, svm__C=7, svm__gamma=0.3, voting=hard; total time=   1.2s\n",
      "[CV] END rf__max_depth=7, rf__n_estimators=20, svm__C=7, svm__gamma=0.5, voting=soft; total time=   1.3s\n",
      "[CV] END rf__max_depth=7, rf__n_estimators=20, svm__C=7, svm__gamma=0.5, voting=soft; total time=   1.3s\n",
      "[CV] END rf__max_depth=7, rf__n_estimators=20, svm__C=7, svm__gamma=0.5, voting=soft; total time=   1.3s\n",
      "[CV] END rf__max_depth=7, rf__n_estimators=20, svm__C=7, svm__gamma=0.5, voting=hard; total time=   1.3s\n"
     ]
    },
    {
     "name": "stdout",
     "output_type": "stream",
     "text": [
      "[CV] END rf__max_depth=7, rf__n_estimators=20, svm__C=7, svm__gamma=0.5, voting=hard; total time=   1.3s\n",
      "[CV] END rf__max_depth=7, rf__n_estimators=20, svm__C=7, svm__gamma=0.5, voting=hard; total time=   1.3s\n",
      "[CV] END rf__max_depth=7, rf__n_estimators=20, svm__C=10, svm__gamma=0.1, voting=soft; total time=   1.2s\n",
      "[CV] END rf__max_depth=7, rf__n_estimators=20, svm__C=10, svm__gamma=0.1, voting=soft; total time=   1.2s\n",
      "[CV] END rf__max_depth=7, rf__n_estimators=20, svm__C=10, svm__gamma=0.1, voting=soft; total time=   1.2s\n",
      "[CV] END rf__max_depth=7, rf__n_estimators=20, svm__C=10, svm__gamma=0.1, voting=hard; total time=   1.2s\n",
      "[CV] END rf__max_depth=7, rf__n_estimators=20, svm__C=10, svm__gamma=0.1, voting=hard; total time=   1.2s\n",
      "[CV] END rf__max_depth=7, rf__n_estimators=20, svm__C=10, svm__gamma=0.1, voting=hard; total time=   1.2s\n",
      "[CV] END rf__max_depth=7, rf__n_estimators=20, svm__C=10, svm__gamma=0.3, voting=soft; total time=   1.2s\n",
      "[CV] END rf__max_depth=7, rf__n_estimators=20, svm__C=10, svm__gamma=0.3, voting=soft; total time=   1.3s\n",
      "[CV] END rf__max_depth=7, rf__n_estimators=20, svm__C=10, svm__gamma=0.3, voting=soft; total time=   1.2s\n",
      "[CV] END rf__max_depth=7, rf__n_estimators=20, svm__C=10, svm__gamma=0.3, voting=hard; total time=   1.3s\n",
      "[CV] END rf__max_depth=7, rf__n_estimators=20, svm__C=10, svm__gamma=0.3, voting=hard; total time=   1.2s\n",
      "[CV] END rf__max_depth=7, rf__n_estimators=20, svm__C=10, svm__gamma=0.3, voting=hard; total time=   1.3s\n",
      "[CV] END rf__max_depth=7, rf__n_estimators=20, svm__C=10, svm__gamma=0.5, voting=soft; total time=   1.3s\n",
      "[CV] END rf__max_depth=7, rf__n_estimators=20, svm__C=10, svm__gamma=0.5, voting=soft; total time=   1.3s\n",
      "[CV] END rf__max_depth=7, rf__n_estimators=20, svm__C=10, svm__gamma=0.5, voting=soft; total time=   1.3s\n",
      "[CV] END rf__max_depth=7, rf__n_estimators=20, svm__C=10, svm__gamma=0.5, voting=hard; total time=   1.3s\n",
      "[CV] END rf__max_depth=7, rf__n_estimators=20, svm__C=10, svm__gamma=0.5, voting=hard; total time=   1.3s\n",
      "[CV] END rf__max_depth=7, rf__n_estimators=20, svm__C=10, svm__gamma=0.5, voting=hard; total time=   1.3s\n"
     ]
    },
    {
     "data": {
      "text/plain": [
       "GridSearchCV(cv=3,\n",
       "             estimator=VotingClassifier(estimators=[('logistic',\n",
       "                                                     LogisticRegression()),\n",
       "                                                    ('svm',\n",
       "                                                     SVC(probability=True)),\n",
       "                                                    ('rf',\n",
       "                                                     RandomForestClassifier())],\n",
       "                                        voting='soft', weights=[2, 3, 1]),\n",
       "             n_jobs=1,\n",
       "             param_grid={'rf__max_depth': [3, 5, 7],\n",
       "                         'rf__n_estimators': [5, 10, 20],\n",
       "                         'svm__C': [3, 5, 7, 10], 'svm__gamma': [0.1, 0.3, 0.5],\n",
       "                         'voting': ['soft', 'hard']},\n",
       "             scoring='accuracy', verbose=2)"
      ]
     },
     "execution_count": 28,
     "metadata": {},
     "output_type": "execute_result"
    }
   ],
   "source": [
    "model_grid.fit(xtrain, ytrain)"
   ]
  },
  {
   "cell_type": "code",
   "execution_count": 31,
   "id": "89cd3801",
   "metadata": {},
   "outputs": [],
   "source": [
    "model_best_estimator = model_grid.best_estimator_"
   ]
  },
  {
   "cell_type": "code",
   "execution_count": 30,
   "id": "c79f3004",
   "metadata": {},
   "outputs": [
    {
     "data": {
      "text/plain": [
       "0.2687179487179487"
      ]
     },
     "execution_count": 30,
     "metadata": {},
     "output_type": "execute_result"
    }
   ],
   "source": [
    "model_grid.best_score_"
   ]
  },
  {
   "cell_type": "code",
   "execution_count": null,
   "id": "6319d156",
   "metadata": {},
   "outputs": [],
   "source": [
    "# Save pickle"
   ]
  },
  {
   "cell_type": "code",
   "execution_count": 33,
   "id": "0804c1bc",
   "metadata": {},
   "outputs": [],
   "source": [
    "pickle.dump(model_best_estimator, open('../models/ml_face_identity.pkl', mode='wb'))"
   ]
  },
  {
   "cell_type": "code",
   "execution_count": null,
   "id": "d45e8d2b",
   "metadata": {},
   "outputs": [],
   "source": []
  }
 ],
 "metadata": {
  "kernelspec": {
   "display_name": "Python 3",
   "language": "python",
   "name": "python3"
  },
  "language_info": {
   "codemirror_mode": {
    "name": "ipython",
    "version": 3
   },
   "file_extension": ".py",
   "mimetype": "text/x-python",
   "name": "python",
   "nbconvert_exporter": "python",
   "pygments_lexer": "ipython3",
   "version": "3.8.8"
  }
 },
 "nbformat": 4,
 "nbformat_minor": 5
}
