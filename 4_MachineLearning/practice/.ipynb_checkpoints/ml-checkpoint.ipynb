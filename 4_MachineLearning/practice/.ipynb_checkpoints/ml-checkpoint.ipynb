{
 "cells": [
  {
   "cell_type": "code",
   "execution_count": 1,
   "id": "a4aca8a8",
   "metadata": {},
   "outputs": [],
   "source": [
    "import numpy as np;\n",
    "import pickle\n",
    "import pandas as pd "
   ]
  },
  {
   "cell_type": "code",
   "execution_count": null,
   "id": "a74334a0",
   "metadata": {},
   "outputs": [],
   "source": [
    "# LOAD\n",
    "# SPLIT \n",
    "# TRAIN AND TEST"
   ]
  },
  {
   "cell_type": "code",
   "execution_count": 2,
   "id": "2d981f9e",
   "metadata": {},
   "outputs": [],
   "source": [
    "data = pickle.load(open('./data_pickle.pickle', mode='rb'))"
   ]
  },
  {
   "cell_type": "code",
   "execution_count": 3,
   "id": "3358b622",
   "metadata": {},
   "outputs": [],
   "source": [
    "x = np.array(data['data'])   # independent var\n",
    "y = np.array(data['label'])  # dependent var"
   ]
  },
  {
   "cell_type": "code",
   "execution_count": 5,
   "id": "9f6a9edb",
   "metadata": {},
   "outputs": [
    {
     "data": {
      "text/plain": [
       "((1219, 1, 128), (1219,))"
      ]
     },
     "execution_count": 5,
     "metadata": {},
     "output_type": "execute_result"
    }
   ],
   "source": [
    "x.shape, y.shape "
   ]
  },
  {
   "cell_type": "code",
   "execution_count": 4,
   "id": "920f58c5",
   "metadata": {},
   "outputs": [
    {
     "data": {
      "text/plain": [
       "(1219, 128)"
      ]
     },
     "execution_count": 4,
     "metadata": {},
     "output_type": "execute_result"
    }
   ],
   "source": [
    "x = x.reshape(-1, 128)\n",
    "x.shape"
   ]
  },
  {
   "cell_type": "code",
   "execution_count": 5,
   "id": "3182511e",
   "metadata": {},
   "outputs": [],
   "source": [
    "from sklearn.model_selection import train_test_split"
   ]
  },
  {
   "cell_type": "code",
   "execution_count": 6,
   "id": "263b555b",
   "metadata": {},
   "outputs": [],
   "source": [
    "xtrain, xtest, ytrain, ytest = train_test_split(x, y, train_size=0.8, random_state = 0)"
   ]
  },
  {
   "cell_type": "code",
   "execution_count": 7,
   "id": "36cb38d5",
   "metadata": {},
   "outputs": [
    {
     "data": {
      "text/plain": [
       "((975, 128), (244, 128), (975,), (244,))"
      ]
     },
     "execution_count": 7,
     "metadata": {},
     "output_type": "execute_result"
    }
   ],
   "source": [
    "xtrain.shape, xtest.shape, ytrain.shape, ytest.shape"
   ]
  },
  {
   "cell_type": "code",
   "execution_count": null,
   "id": "18c7759e",
   "metadata": {},
   "outputs": [],
   "source": [
    "# train ml"
   ]
  },
  {
   "cell_type": "code",
   "execution_count": 8,
   "id": "077dfed3",
   "metadata": {},
   "outputs": [],
   "source": [
    "from sklearn.linear_model import LogisticRegression\n",
    "from sklearn.svm import SVC\n",
    "from sklearn.ensemble import RandomForestClassifier\n",
    "from sklearn.ensemble import VotingClassifier\n",
    "from sklearn.metrics import classification_report, accuracy_score, f1_score"
   ]
  },
  {
   "cell_type": "code",
   "execution_count": null,
   "id": "2bd6ec8b",
   "metadata": {},
   "outputs": [],
   "source": [
    "# Logistic Regression"
   ]
  },
  {
   "cell_type": "code",
   "execution_count": 9,
   "id": "a2bbb5fb",
   "metadata": {},
   "outputs": [
    {
     "data": {
      "text/plain": [
       "LogisticRegression()"
      ]
     },
     "execution_count": 9,
     "metadata": {},
     "output_type": "execute_result"
    }
   ],
   "source": [
    "model_logistic = LogisticRegression()\n",
    "model_logistic.fit(xtrain, ytrain)"
   ]
  },
  {
   "cell_type": "code",
   "execution_count": 10,
   "id": "b8f855b8",
   "metadata": {},
   "outputs": [],
   "source": [
    "def get_report(model, xtrain, xtest, ytrain, ytest):\n",
    "    y_pred_train = model.predict(xtrain)\n",
    "    y_pred_test = model.predict(xtest)\n",
    "\n",
    "    # accuracy \n",
    "    acc_train = accuracy_score(ytrain, y_pred_train)\n",
    "    acc_test = accuracy_score(ytest, y_pred_test)\n",
    "\n",
    "    # f1 score \n",
    "    f1_score_train = f1_score(ytrain, y_pred_train, average='macro')\n",
    "    f1_score_test = f1_score(ytest, y_pred_test, average='macro')\n",
    "\n",
    "    print(\"Accuracy train: \", acc_train)\n",
    "    print(\"Accuracy test: \", acc_test)\n",
    "    print(\"F1 score train: \", f1_score_train)\n",
    "    print(\"F1 score test: \", f1_score_test)"
   ]
  },
  {
   "cell_type": "code",
   "execution_count": 11,
   "id": "c420c5c4",
   "metadata": {},
   "outputs": [
    {
     "name": "stdout",
     "output_type": "stream",
     "text": [
      "Accuracy train:  0.3292307692307692\n",
      "Accuracy test:  0.20491803278688525\n",
      "F1 score train:  0.30890693477486575\n",
      "F1 score test:  0.18544831339221496\n"
     ]
    }
   ],
   "source": [
    "get_report(model_logistic,  xtrain, xtest, ytrain, ytest)"
   ]
  },
  {
   "cell_type": "code",
   "execution_count": 17,
   "id": "25e55c37",
   "metadata": {},
   "outputs": [],
   "source": [
    "# Support Vector Machines"
   ]
  },
  {
   "cell_type": "code",
   "execution_count": 12,
   "id": "b39c2159",
   "metadata": {},
   "outputs": [
    {
     "data": {
      "text/plain": [
       "SVC(probability=True)"
      ]
     },
     "execution_count": 12,
     "metadata": {},
     "output_type": "execute_result"
    }
   ],
   "source": [
    "model_svc = SVC(probability = True)\n",
    "model_svc.fit(xtrain, ytrain)"
   ]
  },
  {
   "cell_type": "code",
   "execution_count": 13,
   "id": "61b9d73d",
   "metadata": {},
   "outputs": [
    {
     "name": "stdout",
     "output_type": "stream",
     "text": [
      "Accuracy train:  0.5066666666666667\n",
      "Accuracy test:  0.2459016393442623\n",
      "F1 score train:  0.5104390016146961\n",
      "F1 score test:  0.23359124110046395\n"
     ]
    }
   ],
   "source": [
    "get_report(model_svc,  xtrain, xtest, ytrain, ytest)"
   ]
  },
  {
   "cell_type": "code",
   "execution_count": null,
   "id": "4284cd8a",
   "metadata": {},
   "outputs": [],
   "source": [
    "# Random forest"
   ]
  },
  {
   "cell_type": "code",
   "execution_count": 16,
   "id": "8b72ba5d",
   "metadata": {},
   "outputs": [
    {
     "data": {
      "text/plain": [
       "RandomForestClassifier(n_estimators=10)"
      ]
     },
     "execution_count": 16,
     "metadata": {},
     "output_type": "execute_result"
    }
   ],
   "source": [
    "model_rf = RandomForestClassifier(n_estimators=10)\n",
    "model_rf.fit(xtrain, ytrain)"
   ]
  },
  {
   "cell_type": "code",
   "execution_count": 17,
   "id": "998c71a5",
   "metadata": {},
   "outputs": [
    {
     "name": "stdout",
     "output_type": "stream",
     "text": [
      "Accuracy train:  0.9948717948717949\n",
      "Accuracy test:  0.1598360655737705\n",
      "F1 score train:  0.9951796437268728\n",
      "F1 score test:  0.14440872741701455\n"
     ]
    }
   ],
   "source": [
    "get_report(model_rf,  xtrain, xtest, ytrain, ytest)"
   ]
  },
  {
   "cell_type": "code",
   "execution_count": null,
   "id": "5c9ea7e1",
   "metadata": {},
   "outputs": [],
   "source": []
  }
 ],
 "metadata": {
  "kernelspec": {
   "display_name": "Python 3",
   "language": "python",
   "name": "python3"
  },
  "language_info": {
   "codemirror_mode": {
    "name": "ipython",
    "version": 3
   },
   "file_extension": ".py",
   "mimetype": "text/x-python",
   "name": "python",
   "nbconvert_exporter": "python",
   "pygments_lexer": "ipython3",
   "version": "3.8.8"
  }
 },
 "nbformat": 4,
 "nbformat_minor": 5
}
