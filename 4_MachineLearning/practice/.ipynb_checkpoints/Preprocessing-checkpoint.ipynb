{
 "cells": [
  {
   "cell_type": "code",
   "execution_count": 1,
   "id": "266abfb5",
   "metadata": {},
   "outputs": [],
   "source": [
    "import numpy as np\n",
    "import cv2\n",
    "import os \n",
    "import pandas as pd \n",
    "import pickle"
   ]
  },
  {
   "cell_type": "code",
   "execution_count": 2,
   "id": "90ae392d",
   "metadata": {},
   "outputs": [],
   "source": [
    "face_det_model = \"../models/res10_300x300_ssd_iter_140000.caffemodel\"\n",
    "face_det_proto = \"../models/deploy.prototxt.txt\"\n",
    "face_descriptor = \"../models/openface.nn4.small2.v1.t7\"\n",
    "\n",
    "detector = cv2.dnn.readNetFromCaffe(face_det_proto, face_det_model)\n",
    "descriptor = cv2.dnn.readNetFromTorch(face_descriptor)"
   ]
  },
  {
   "cell_type": "code",
   "execution_count": 4,
   "id": "6d6c2b06",
   "metadata": {},
   "outputs": [
    {
     "name": "stdout",
     "output_type": "stream",
     "text": [
      " Volume in drive C has no label.\n",
      " Volume Serial Number is 8E47-9470\n",
      "\n",
      " Directory of C:\\Users\\HP\\Documents\\COEP coding\\Face recognition\\4_MachineLearning\\images\n",
      "\n",
      "09-06-2021  12:00    <DIR>          .\n",
      "09-06-2021  12:00    <DIR>          ..\n",
      "09-06-2021  11:59    <DIR>          Aamir Khan\n",
      "09-06-2021  11:59    <DIR>          Angelina Jolie\n",
      "09-06-2021  11:59    <DIR>          Barack Obama\n",
      "09-06-2021  11:59    <DIR>          Cristiano Ronaldo\n",
      "09-06-2021  11:59    <DIR>          Donald Trump\n",
      "09-06-2021  11:59    <DIR>          Elon Musk\n",
      "09-06-2021  11:59    <DIR>          Joe Biden\n",
      "09-06-2021  11:59    <DIR>          Leonardo DiCaprio\n",
      "09-06-2021  12:00    <DIR>          Lionel Messi\n",
      "09-06-2021  12:00    <DIR>          Robert Downey Jr\n",
      "09-06-2021  12:00    <DIR>          Roger Federer\n",
      "09-06-2021  12:00    <DIR>          Sachin Tendulkar\n",
      "09-06-2021  12:00    <DIR>          Salman Khan\n",
      "09-06-2021  12:00    <DIR>          Scarlett Johansson\n",
      "09-06-2021  12:00    <DIR>          Tom Curise\n",
      "               0 File(s)              0 bytes\n",
      "              17 Dir(s)  55,505,575,936 bytes free\n"
     ]
    }
   ],
   "source": [
    "!dir \"../images\""
   ]
  },
  {
   "cell_type": "code",
   "execution_count": 25,
   "id": "abf220ff",
   "metadata": {},
   "outputs": [],
   "source": [
    "img = cv2.imread(\"../images/Sachin Tendulkar/2200.jpg\")"
   ]
  },
  {
   "cell_type": "code",
   "execution_count": 3,
   "id": "b272ea67",
   "metadata": {},
   "outputs": [],
   "source": [
    "def show(name, img):\n",
    "    cv2.imshow(name, img)\n",
    "    cv2.waitKey(0)\n",
    "    cv2.destroyAllWindows()"
   ]
  },
  {
   "cell_type": "code",
   "execution_count": 26,
   "id": "720f1d93",
   "metadata": {},
   "outputs": [],
   "source": [
    "show(\"sample\", img)"
   ]
  },
  {
   "cell_type": "code",
   "execution_count": 4,
   "id": "3cd27b6b",
   "metadata": {},
   "outputs": [],
   "source": [
    "def helper(img_path):\n",
    "    img = cv2.imread(img_path)\n",
    "    image = img.copy()\n",
    "    h, w = image.shape[:2]\n",
    "    img_blob = cv2.dnn.blobFromImage(image, 1, (300, 300), (104, 177, 123), swapRB = False, crop = False)\n",
    "    detector.setInput(img_blob)\n",
    "    detections = detector.forward()\n",
    "\n",
    "    if (len(detections) > 0):\n",
    "        i = np.argmax(detections[0, 0, :, 2])\n",
    "        confidence = detections[0, 0, i, 2]\n",
    "        if confidence > 0.5:\n",
    "            box = detections[0, 0, i, 3:7] * np.array([w, h, w, h])\n",
    "            (sx, sy, ex, ey) = box.astype('int')\n",
    "    #         cv2.rectangle(image, (sx, sy), (ex, ey), (255, 0, 0))\n",
    "            roi = image[sy:sx, ey:ex].copy()\n",
    "            face_blob = cv2.dnn.blobFromImage(roi, 1/255, (96, 96), (0, 0, 0), swapRB = True, crop = True)\n",
    "            descriptor.setInput(face_blob)\n",
    "            vectors = descriptor.forward()\n",
    "            return vectors\n",
    "    return None"
   ]
  },
  {
   "cell_type": "code",
   "execution_count": 5,
   "id": "0504a40e",
   "metadata": {},
   "outputs": [
    {
     "data": {
      "text/plain": [
       "array([[ 0.05231598,  0.08412121, -0.03024894, -0.07003027,  0.12917848,\n",
       "         0.03182055,  0.02593189, -0.02020215, -0.192938  ,  0.1444732 ,\n",
       "         0.00591642,  0.06910675,  0.14573486,  0.06284437,  0.0219784 ,\n",
       "         0.06290853,  0.07582978,  0.09940577, -0.04048213,  0.12831073,\n",
       "         0.11606155, -0.03765555,  0.11310067,  0.07985513,  0.01229538,\n",
       "         0.06124292, -0.03652075, -0.07046974,  0.13612545,  0.12085325,\n",
       "        -0.10672243,  0.08584692, -0.00881903,  0.02757972, -0.04816483,\n",
       "        -0.06746721, -0.04555164,  0.2342136 ,  0.03576537, -0.01123398,\n",
       "        -0.06724712,  0.03832396,  0.03794802,  0.0406235 , -0.1774243 ,\n",
       "         0.00438851,  0.13972056, -0.00143383, -0.08841556,  0.0185188 ,\n",
       "         0.18053342,  0.05420963, -0.1523425 ,  0.03052123,  0.1024074 ,\n",
       "        -0.03565935,  0.09024858,  0.11029367,  0.04557644, -0.101161  ,\n",
       "        -0.03432951, -0.1033351 ,  0.08304318, -0.0289127 ,  0.06113911,\n",
       "        -0.07435746, -0.07938755,  0.11901575, -0.05261913,  0.06666464,\n",
       "         0.06233134,  0.14797415, -0.02589256,  0.01117654,  0.01244547,\n",
       "         0.02299928, -0.03451855,  0.07538632,  0.07707269,  0.00180759,\n",
       "        -0.02163695,  0.07202634,  0.07623534,  0.03434625, -0.0052984 ,\n",
       "        -0.12156855,  0.07172867,  0.0975056 ,  0.13121144, -0.01528538,\n",
       "        -0.09645386, -0.04962866, -0.04069757,  0.00505724, -0.03367594,\n",
       "        -0.15368539,  0.03284251,  0.17044237,  0.00144174, -0.09768072,\n",
       "         0.0072223 ,  0.08259328,  0.04417903,  0.20542061, -0.14290251,\n",
       "        -0.00395094, -0.13288298,  0.07976952,  0.20848872, -0.1508385 ,\n",
       "         0.01537907,  0.16521268, -0.1012282 ,  0.11138209,  0.05163899,\n",
       "         0.02456615, -0.08299691, -0.11766811, -0.09840953,  0.11413006,\n",
       "        -0.01070821,  0.05228529, -0.00539716, -0.01039219, -0.07620037,\n",
       "         0.05725056, -0.00663819, -0.00652587]], dtype=float32)"
      ]
     },
     "execution_count": 5,
     "metadata": {},
     "output_type": "execute_result"
    }
   ],
   "source": [
    "helper(\"../images/Sachin Tendulkar/2200.jpg\")"
   ]
  },
  {
   "cell_type": "code",
   "execution_count": 33,
   "id": "5f6ff70c",
   "metadata": {},
   "outputs": [],
   "source": [
    "show(\"Final\", image)"
   ]
  },
  {
   "cell_type": "code",
   "execution_count": 5,
   "id": "7787d4a4",
   "metadata": {},
   "outputs": [],
   "source": [
    "data = dict(data = [], label = [])"
   ]
  },
  {
   "cell_type": "code",
   "execution_count": 6,
   "id": "91b7dba0",
   "metadata": {},
   "outputs": [
    {
     "name": "stdout",
     "output_type": "stream",
     "text": [
      "1219\n"
     ]
    }
   ],
   "source": [
    "folders = os.listdir(\"../images\")\n",
    "c=0\n",
    "for folder in folders:\n",
    "    files = os.listdir(f\"../images/{folder}\")\n",
    "    for file in files:\n",
    "        try:\n",
    "            vector = helper(f\"../images/{folder}/{file}\")\n",
    "            if vector is not None:\n",
    "                data['data'].append(vector)\n",
    "                data['label'].append(folder)\n",
    "#                 print(\"Extracted !\")\n",
    "                c += 1\n",
    "        except:\n",
    "            pass\n",
    "print(c)"
   ]
  },
  {
   "cell_type": "code",
   "execution_count": 7,
   "id": "21ae9486",
   "metadata": {},
   "outputs": [
    {
     "data": {
      "text/plain": [
       "Donald Trump          110\n",
       "Barack Obama           96\n",
       "Cristiano Ronaldo      92\n",
       "Roger Federer          90\n",
       "Sachin Tendulkar       87\n",
       "Lionel Messi           87\n",
       "Salman Khan            83\n",
       "Robert Downey Jr       80\n",
       "Elon Musk              80\n",
       "Leonardo DiCaprio      74\n",
       "Joe Biden              74\n",
       "Scarlett Johansson     74\n",
       "Aamir Khan             68\n",
       "Tom Curise             63\n",
       "Angelina Jolie         61\n",
       "dtype: int64"
      ]
     },
     "execution_count": 7,
     "metadata": {},
     "output_type": "execute_result"
    }
   ],
   "source": [
    "pd.Series(data['label']).value_counts()"
   ]
  },
  {
   "cell_type": "code",
   "execution_count": 8,
   "id": "53a734ee",
   "metadata": {},
   "outputs": [],
   "source": [
    "pickle.dump(data, open('data_pickle.pickle', mode='wb'))"
   ]
  },
  {
   "cell_type": "code",
   "execution_count": null,
   "id": "b8124bfa",
   "metadata": {},
   "outputs": [],
   "source": []
  }
 ],
 "metadata": {
  "kernelspec": {
   "display_name": "Python 3",
   "language": "python",
   "name": "python3"
  },
  "language_info": {
   "codemirror_mode": {
    "name": "ipython",
    "version": 3
   },
   "file_extension": ".py",
   "mimetype": "text/x-python",
   "name": "python",
   "nbconvert_exporter": "python",
   "pygments_lexer": "ipython3",
   "version": "3.8.8"
  }
 },
 "nbformat": 4,
 "nbformat_minor": 5
}
