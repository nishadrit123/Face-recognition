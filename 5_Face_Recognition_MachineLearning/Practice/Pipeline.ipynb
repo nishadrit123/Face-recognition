{
 "cells": [
  {
   "cell_type": "code",
   "execution_count": 1,
   "id": "979572d1",
   "metadata": {},
   "outputs": [],
   "source": [
    "import numpy as np\n",
    "import cv2\n",
    "import pickle\n",
    "import sklearn"
   ]
  },
  {
   "cell_type": "code",
   "execution_count": 2,
   "id": "5032550f",
   "metadata": {},
   "outputs": [
    {
     "name": "stderr",
     "output_type": "stream",
     "text": [
      "C:\\Users\\HP\\anaconda3\\lib\\site-packages\\sklearn\\base.py:299: UserWarning: Trying to unpickle estimator LogisticRegression from version 0.24.1 when using version 1.2.1. This might lead to breaking code or invalid results. Use at your own risk. For more info please refer to:\n",
      "https://scikit-learn.org/stable/model_persistence.html#security-maintainability-limitations\n",
      "  warnings.warn(\n",
      "C:\\Users\\HP\\anaconda3\\lib\\site-packages\\sklearn\\base.py:299: UserWarning: Trying to unpickle estimator SVC from version 0.24.1 when using version 1.2.1. This might lead to breaking code or invalid results. Use at your own risk. For more info please refer to:\n",
      "https://scikit-learn.org/stable/model_persistence.html#security-maintainability-limitations\n",
      "  warnings.warn(\n",
      "C:\\Users\\HP\\anaconda3\\lib\\site-packages\\sklearn\\base.py:299: UserWarning: Trying to unpickle estimator DecisionTreeClassifier from version 0.24.1 when using version 1.2.1. This might lead to breaking code or invalid results. Use at your own risk. For more info please refer to:\n",
      "https://scikit-learn.org/stable/model_persistence.html#security-maintainability-limitations\n",
      "  warnings.warn(\n",
      "C:\\Users\\HP\\anaconda3\\lib\\site-packages\\sklearn\\base.py:299: UserWarning: Trying to unpickle estimator RandomForestClassifier from version 0.24.1 when using version 1.2.1. This might lead to breaking code or invalid results. Use at your own risk. For more info please refer to:\n",
      "https://scikit-learn.org/stable/model_persistence.html#security-maintainability-limitations\n",
      "  warnings.warn(\n",
      "C:\\Users\\HP\\anaconda3\\lib\\site-packages\\sklearn\\base.py:299: UserWarning: Trying to unpickle estimator LabelEncoder from version 0.24.1 when using version 1.2.1. This might lead to breaking code or invalid results. Use at your own risk. For more info please refer to:\n",
      "https://scikit-learn.org/stable/model_persistence.html#security-maintainability-limitations\n",
      "  warnings.warn(\n",
      "C:\\Users\\HP\\anaconda3\\lib\\site-packages\\sklearn\\base.py:299: UserWarning: Trying to unpickle estimator VotingClassifier from version 0.24.1 when using version 1.2.1. This might lead to breaking code or invalid results. Use at your own risk. For more info please refer to:\n",
      "https://scikit-learn.org/stable/model_persistence.html#security-maintainability-limitations\n",
      "  warnings.warn(\n"
     ]
    }
   ],
   "source": [
    "# Face detection\n",
    "face_detect_model = cv2.dnn.readNetFromCaffe(\"../models/deploy.prototxt.txt\", \n",
    "                                             \"../models/res10_300x300_ssd_iter_140000.caffemodel\")\n",
    "\n",
    "face_cascade = cv2.CascadeClassifier(\"../cascade_classifier/haarcascade_frontalface_default.xml\")\n",
    "\n",
    "# Feature extraction\n",
    "face_feature_model = cv2.dnn.readNetFromTorch(\"../models/openface.nn4.small2.v1.t7\")\n",
    "\n",
    "# Face recognition\n",
    "face_recognition_model = pickle.load(open('../models/machinelearning_face_person_identity.pkl', mode='rb'))\n",
    "\n",
    "# Emotion recognition\n",
    "emotion_recognition_model = pickle.load(open('../models/machinelearning_face_emotion.pkl', mode='rb'))"
   ]
  },
  {
   "cell_type": "code",
   "execution_count": 3,
   "id": "609ef4c5",
   "metadata": {},
   "outputs": [],
   "source": [
    "def show(name, img):\n",
    "    cv2.imshow(name, img)\n",
    "    cv2.waitKey(0)\n",
    "    cv2.destroyAllWindows()"
   ]
  },
  {
   "cell_type": "code",
   "execution_count": 4,
   "id": "422416ee",
   "metadata": {},
   "outputs": [],
   "source": [
    "def pipeline(img_path):\n",
    "    img = cv2.imread(img_path)\n",
    "    image = img.copy()\n",
    "    h, w = img.shape[:2]\n",
    "    img_blob = cv2.dnn.blobFromImage(img, 1, (300, 300), (104, 177, 123), swapRB=False, crop=False)\n",
    "    face_detect_model.setInput(img_blob)\n",
    "    detections = face_detect_model.forward()\n",
    "    \n",
    "    machinelearning_results = dict(face_detect_score = [],\n",
    "                                  face_name = [],\n",
    "                                  face_name_score = [],\n",
    "                                  emotion_name = [],\n",
    "                                  emotion_name_score = [],\n",
    "                                  count = [])\n",
    "\n",
    "    count = 1 \n",
    "    if len(detections) > 0:\n",
    "        for i, confidence in enumerate(detections[0, 0, :, 2]):\n",
    "            if confidence > 0.5:\n",
    "                box = detections[0, 0, i, 3:7]*np.array([w, h, w, h])\n",
    "                sx, sy, ex, ey = box.astype(int)\n",
    "                cv2.rectangle(image, (sx, sy), (ex, ey), (255, 0, 0))\n",
    "\n",
    "                # feature extraction \n",
    "                face_roi = img[sy:ey, sx:ex]\n",
    "                face_blob = cv2.dnn.blobFromImage(face_roi, 1/255, (96, 96), (0, 0, 0), swapRB=True, crop=True)\n",
    "                face_feature_model.setInput(face_blob)\n",
    "                vectors = face_feature_model.forward()\n",
    "\n",
    "                #predict with ml model\n",
    "                face_name = face_recognition_model.predict(vectors)[0]\n",
    "                face_score = face_recognition_model.predict_proba(vectors).max()\n",
    "\n",
    "                #emotion\n",
    "                face_emotion = emotion_recognition_model.predict(vectors)[0]\n",
    "                face_emotion_score = emotion_recognition_model.predict_proba(vectors).max()\n",
    "\n",
    "                face_text = \"{}, {:.0f}%\".format(face_name, 100*face_score)\n",
    "                emotion_text = \"{}, {:.2f}%\".format(face_emotion, 100*face_emotion_score)\n",
    "                cv2.putText(image, face_text, (sx, sy), cv2.FONT_HERSHEY_SIMPLEX, 1, (255, 255, 255), 1)\n",
    "                cv2.putText(image, emotion_text, (sx, ey), cv2.FONT_HERSHEY_SIMPLEX, 1, (255, 255, 255), 1)\n",
    "                \n",
    "                machinelearning_results['count'].append(count)\n",
    "                machinelearning_results['face_detect_score'].append(confidence)\n",
    "                machinelearning_results['face_name'].append(face_name)\n",
    "                machinelearning_results['face_name_score'].append(face_score)\n",
    "                machinelearning_results['emotion_name'].append(face_emotion)\n",
    "                machinelearning_results['emotion_name_score'].append(face_emotion_score)\n",
    "                count += 1\n",
    "                \n",
    "    return image\n",
    "#     return machinelearning_results"
   ]
  },
  {
   "cell_type": "code",
   "execution_count": 5,
   "id": "0dcb6fcb",
   "metadata": {},
   "outputs": [],
   "source": [
    "new = pipeline(\"../data/joe_trump_obama.jpg\")\n",
    "show(\"WOW\", new)"
   ]
  },
  {
   "cell_type": "code",
   "execution_count": null,
   "id": "27cabd28",
   "metadata": {},
   "outputs": [],
   "source": []
  }
 ],
 "metadata": {
  "kernelspec": {
   "display_name": "Python 3",
   "language": "python",
   "name": "python3"
  },
  "language_info": {
   "codemirror_mode": {
    "name": "ipython",
    "version": 3
   },
   "file_extension": ".py",
   "mimetype": "text/x-python",
   "name": "python",
   "nbconvert_exporter": "python",
   "pygments_lexer": "ipython3",
   "version": "3.8.8"
  }
 },
 "nbformat": 4,
 "nbformat_minor": 5
}
