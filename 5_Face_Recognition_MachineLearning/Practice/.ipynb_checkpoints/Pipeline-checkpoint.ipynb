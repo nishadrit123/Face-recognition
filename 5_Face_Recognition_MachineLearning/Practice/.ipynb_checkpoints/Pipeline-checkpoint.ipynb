{
 "cells": [
  {
   "cell_type": "code",
   "execution_count": 1,
   "id": "a0e7c65f",
   "metadata": {},
   "outputs": [],
   "source": [
    "import numpy as np\n",
    "import cv2\n",
    "import pickle\n",
    "import sklearn"
   ]
  },
  {
   "cell_type": "code",
   "execution_count": 2,
   "id": "bcd45f90",
   "metadata": {},
   "outputs": [],
   "source": [
    "# Face detection\n",
    "face_detect_model = cv2.dnn.readNetFromCaffe(\"../models/deploy.prototxt.txt\", \n",
    "                                             \"../models/res10_300x300_ssd_iter_140000.caffemodel\")\n",
    "\n",
    "# Feature extraction\n",
    "face_feature_model = cv2.dnn.readNetFromTorch(\"../models/openface.nn4.small2.v1.t7\")\n",
    "\n",
    "# Face recognition\n",
    "face_recognition_model = pickle.load(open('../models/ml_face_identity.pkl', mode='rb'))\n",
    "\n",
    "# Emotion recognition\n",
    "emotion_recognition_model = pickle.load(open('../models/ml_face_emotion.pkl', mode='rb'))"
   ]
  },
  {
   "cell_type": "code",
   "execution_count": 3,
   "id": "d8c93cf7",
   "metadata": {},
   "outputs": [],
   "source": [
    "img = cv2.imread(\"../data/test_images.jpg\")"
   ]
  },
  {
   "cell_type": "code",
   "execution_count": 4,
   "id": "685cf261",
   "metadata": {},
   "outputs": [],
   "source": [
    "def show(name, img):\n",
    "    cv2.imshow(name, img)\n",
    "    cv2.waitKey(0)\n",
    "    cv2.destroyAllWindows()"
   ]
  },
  {
   "cell_type": "code",
   "execution_count": 5,
   "id": "83d1fc95",
   "metadata": {},
   "outputs": [],
   "source": [
    "show(\"img\", img)"
   ]
  },
  {
   "cell_type": "code",
   "execution_count": 9,
   "id": "c9d1d783",
   "metadata": {},
   "outputs": [],
   "source": [
    "image = img.copy()\n",
    "h, w = img.shape[:2]\n",
    "img_blob = cv2.dnn.blobFromImage(img, 1, (300, 300), (104, 177, 123), swapRB=False, crop=False)\n",
    "face_detect_model.setInput(img_blob)\n",
    "detections = face_detect_model.forward()\n",
    "\n",
    "if len(detections) > 0:\n",
    "    for i, confidence in enumerate(detections[0, 0, :, 2]):\n",
    "        if confidence > 0.5:\n",
    "            box = detections[0, 0, i, 3:7]*np.array([w, h, w, h])\n",
    "            sx, sy, ex, ey = box.astype(int)\n",
    "            cv2.rectangle(image, (sx, sy), (ex, ey), (255, 0, 0))"
   ]
  },
  {
   "cell_type": "code",
   "execution_count": 10,
   "id": "bd036556",
   "metadata": {},
   "outputs": [],
   "source": [
    "show(\"pipe\", image)"
   ]
  },
  {
   "cell_type": "code",
   "execution_count": null,
   "id": "ac4a3297",
   "metadata": {},
   "outputs": [],
   "source": []
  }
 ],
 "metadata": {
  "kernelspec": {
   "display_name": "Python 3",
   "language": "python",
   "name": "python3"
  },
  "language_info": {
   "codemirror_mode": {
    "name": "ipython",
    "version": 3
   },
   "file_extension": ".py",
   "mimetype": "text/x-python",
   "name": "python",
   "nbconvert_exporter": "python",
   "pygments_lexer": "ipython3",
   "version": "3.8.8"
  }
 },
 "nbformat": 4,
 "nbformat_minor": 5
}
