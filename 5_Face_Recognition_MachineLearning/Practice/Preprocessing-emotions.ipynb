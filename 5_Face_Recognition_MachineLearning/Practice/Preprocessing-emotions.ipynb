{
 "cells": [
  {
   "cell_type": "code",
   "execution_count": 1,
   "id": "266abfb5",
   "metadata": {},
   "outputs": [],
   "source": [
    "import numpy as np\n",
    "import cv2\n",
    "import os \n",
    "import pandas as pd \n",
    "import pickle"
   ]
  },
  {
   "cell_type": "code",
   "execution_count": 2,
   "id": "90ae392d",
   "metadata": {},
   "outputs": [],
   "source": [
    "face_det_model = \"../models/res10_300x300_ssd_iter_140000.caffemodel\"\n",
    "face_det_proto = \"../models/deploy.prototxt.txt\"\n",
    "face_descriptor = \"../models/openface.nn4.small2.v1.t7\"\n",
    "\n",
    "detector = cv2.dnn.readNetFromCaffe(face_det_proto, face_det_model)\n",
    "descriptor = cv2.dnn.readNetFromTorch(face_descriptor)"
   ]
  },
  {
   "cell_type": "code",
   "execution_count": 3,
   "id": "6d6c2b06",
   "metadata": {},
   "outputs": [
    {
     "name": "stdout",
     "output_type": "stream",
     "text": [
      " Volume in drive C has no label.\n",
      " Volume Serial Number is 8E47-9470\n",
      "\n",
      " Directory of C:\\Users\\HP\\Documents\\COEP coding\\Face recognition\\5_Face_Recognition_MachineLearning\\emotion_data\n",
      "\n",
      "09-06-2021  11:59    <DIR>          .\n",
      "09-06-2021  11:59    <DIR>          ..\n",
      "09-06-2021  11:58    <DIR>          angry\n",
      "09-06-2021  11:58    <DIR>          disgust\n",
      "09-06-2021  11:58    <DIR>          fear\n",
      "09-06-2021  11:58    <DIR>          happy\n",
      "09-06-2021  11:59    <DIR>          neutral\n",
      "09-06-2021  11:59    <DIR>          sad\n",
      "09-06-2021  11:59    <DIR>          surprise\n",
      "               0 File(s)              0 bytes\n",
      "               9 Dir(s)  36,421,111,808 bytes free\n"
     ]
    }
   ],
   "source": [
    "!dir \"../emotion_data\""
   ]
  },
  {
   "cell_type": "code",
   "execution_count": 4,
   "id": "abf220ff",
   "metadata": {},
   "outputs": [],
   "source": [
    "img = cv2.imread(\"../emotion_data/surprise/1800.jpg\")"
   ]
  },
  {
   "cell_type": "code",
   "execution_count": 5,
   "id": "b272ea67",
   "metadata": {},
   "outputs": [],
   "source": [
    "def show(name, img):\n",
    "    cv2.imshow(name, img)\n",
    "    cv2.waitKey(0)\n",
    "    cv2.destroyAllWindows()"
   ]
  },
  {
   "cell_type": "code",
   "execution_count": 6,
   "id": "720f1d93",
   "metadata": {},
   "outputs": [],
   "source": [
    "show(\"sample\", img)"
   ]
  },
  {
   "cell_type": "code",
   "execution_count": 7,
   "id": "3cd27b6b",
   "metadata": {},
   "outputs": [],
   "source": [
    "def helper(img_path):\n",
    "    img = cv2.imread(img_path)\n",
    "    image = img.copy()\n",
    "    h, w = image.shape[:2]\n",
    "    img_blob = cv2.dnn.blobFromImage(image, 1, (300, 300), (104, 177, 123), swapRB = False, crop = False)\n",
    "    detector.setInput(img_blob)\n",
    "    detections = detector.forward()\n",
    "\n",
    "    if (len(detections) > 0):\n",
    "        i = np.argmax(detections[0, 0, :, 2])\n",
    "        confidence = detections[0, 0, i, 2]\n",
    "        if confidence > 0.5:\n",
    "            box = detections[0, 0, i, 3:7] * np.array([w, h, w, h])\n",
    "            (sx, sy, ex, ey) = box.astype('int')\n",
    "    #         cv2.rectangle(image, (sx, sy), (ex, ey), (255, 0, 0))\n",
    "            roi = image[sy:sx, ey:ex].copy()\n",
    "            face_blob = cv2.dnn.blobFromImage(roi, 1/255, (96, 96), (0, 0, 0), swapRB = True, crop = True)\n",
    "            descriptor.setInput(face_blob)\n",
    "            vectors = descriptor.forward()\n",
    "            return vectors\n",
    "    return None"
   ]
  },
  {
   "cell_type": "code",
   "execution_count": null,
   "id": "0504a40e",
   "metadata": {},
   "outputs": [],
   "source": [
    "helper(\"../emotion_data/surprise/1800.jpg\")"
   ]
  },
  {
   "cell_type": "code",
   "execution_count": 33,
   "id": "5f6ff70c",
   "metadata": {},
   "outputs": [],
   "source": [
    "show(\"Final\", image)"
   ]
  },
  {
   "cell_type": "code",
   "execution_count": 9,
   "id": "7787d4a4",
   "metadata": {},
   "outputs": [],
   "source": [
    "data = dict(data = [], label = [])"
   ]
  },
  {
   "cell_type": "code",
   "execution_count": 10,
   "id": "91b7dba0",
   "metadata": {},
   "outputs": [
    {
     "name": "stdout",
     "output_type": "stream",
     "text": [
      "Extracted !\n",
      "Extracted !\n",
      "Extracted !\n",
      "Extracted !\n",
      "Extracted !\n",
      "Extracted !\n",
      "Extracted !\n",
      "Extracted !\n",
      "Extracted !\n",
      "Extracted !\n",
      "Extracted !\n",
      "Extracted !\n",
      "Extracted !\n",
      "Extracted !\n",
      "Extracted !\n",
      "Extracted !\n",
      "Extracted !\n",
      "Extracted !\n",
      "Extracted !\n",
      "Extracted !\n",
      "Extracted !\n",
      "Extracted !\n",
      "Extracted !\n",
      "Extracted !\n",
      "Extracted !\n",
      "Extracted !\n",
      "Extracted !\n",
      "Extracted !\n",
      "Extracted !\n",
      "Extracted !\n",
      "Extracted !\n",
      "Extracted !\n",
      "Extracted !\n",
      "Extracted !\n"
     ]
    }
   ],
   "source": [
    "folders = os.listdir(\"../emotion_data\")\n",
    "for folder in folders:\n",
    "    files = os.listdir(f\"../emotion_data/{folder}\")\n",
    "    for file in files:\n",
    "        try:\n",
    "            vector = helper(f\"../emotion_data/{folder}/{file}\")\n",
    "            if vector is not None:\n",
    "                data['data'].append(vector)\n",
    "                data['label'].append(folder)\n",
    "                print(\"Extracted !\")\n",
    "        except:\n",
    "            pass"
   ]
  },
  {
   "cell_type": "code",
   "execution_count": 11,
   "id": "21ae9486",
   "metadata": {},
   "outputs": [
    {
     "data": {
      "text/plain": [
       "sad         10\n",
       "neutral      9\n",
       "angry        7\n",
       "happy        4\n",
       "fear         3\n",
       "surprise     1\n",
       "dtype: int64"
      ]
     },
     "execution_count": 11,
     "metadata": {},
     "output_type": "execute_result"
    }
   ],
   "source": [
    "pd.Series(data['label']).value_counts()"
   ]
  },
  {
   "cell_type": "code",
   "execution_count": 12,
   "id": "53a734ee",
   "metadata": {},
   "outputs": [],
   "source": [
    "pickle.dump(data, open('data_pickle_emotion.pickle', mode='wb'))"
   ]
  },
  {
   "cell_type": "code",
   "execution_count": null,
   "id": "b8124bfa",
   "metadata": {},
   "outputs": [],
   "source": []
  }
 ],
 "metadata": {
  "kernelspec": {
   "display_name": "Python 3",
   "language": "python",
   "name": "python3"
  },
  "language_info": {
   "codemirror_mode": {
    "name": "ipython",
    "version": 3
   },
   "file_extension": ".py",
   "mimetype": "text/x-python",
   "name": "python",
   "nbconvert_exporter": "python",
   "pygments_lexer": "ipython3",
   "version": "3.8.8"
  }
 },
 "nbformat": 4,
 "nbformat_minor": 5
}
