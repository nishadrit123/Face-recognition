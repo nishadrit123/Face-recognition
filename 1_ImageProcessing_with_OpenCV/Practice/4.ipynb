{
 "cells": [
  {
   "cell_type": "code",
   "execution_count": 1,
   "id": "f8c9b415",
   "metadata": {},
   "outputs": [],
   "source": [
    "import numpy as np\n",
    "import cv2"
   ]
  },
  {
   "cell_type": "code",
   "execution_count": 2,
   "id": "c4a9b1f8",
   "metadata": {},
   "outputs": [],
   "source": [
    "def display(name, img):\n",
    "    cv2.imshow(name, img)\n",
    "    cv2.waitKey(0)\n",
    "    cv2.destroyAllWindows()"
   ]
  },
  {
   "cell_type": "code",
   "execution_count": 21,
   "id": "37672c98",
   "metadata": {},
   "outputs": [],
   "source": [
    "canvas = np.zeros((300, 300, 3), dtype = \"uint8\")"
   ]
  },
  {
   "cell_type": "code",
   "execution_count": 22,
   "id": "54e58529",
   "metadata": {},
   "outputs": [],
   "source": [
    "display(\"canvas\", canvas)"
   ]
  },
  {
   "cell_type": "code",
   "execution_count": 23,
   "id": "936c80d0",
   "metadata": {},
   "outputs": [],
   "source": [
    "pt1 = (0, 0)\n",
    "pt2 = (300, 300)\n",
    "color = (255, 255, 255)\n",
    "new = cv2.line(canvas, pt1, pt2, color, 5)"
   ]
  },
  {
   "cell_type": "code",
   "execution_count": 24,
   "id": "031a5d73",
   "metadata": {},
   "outputs": [],
   "source": [
    "p1 = (300, 0)\n",
    "p2 = (0, 300)\n",
    "colour = (255, 255, 255)\n",
    "new = cv2.line(new, p1, p2, color, 5)"
   ]
  },
  {
   "cell_type": "code",
   "execution_count": 25,
   "id": "49086239",
   "metadata": {},
   "outputs": [],
   "source": [
    "display(\"new\", new)"
   ]
  },
  {
   "cell_type": "code",
   "execution_count": 26,
   "id": "1b382e5c",
   "metadata": {},
   "outputs": [],
   "source": [
    "img = np.zeros((500, 500, 3), dtype = \"uint8\")"
   ]
  },
  {
   "cell_type": "code",
   "execution_count": 27,
   "id": "e2ead3f5",
   "metadata": {},
   "outputs": [],
   "source": [
    "display(\"img\", img)"
   ]
  },
  {
   "cell_type": "code",
   "execution_count": 31,
   "id": "678aedc0",
   "metadata": {},
   "outputs": [],
   "source": [
    "p1 = (50, 25)\n",
    "p2 = (25, 100)\n",
    "\n",
    "cv2.rectangle(img, p1, p2, (255, 0, 0), 5)\n",
    "cv2.rectangle(img, (255, 400), (450, 450), (255, 0, 255), -1)\n",
    "display(\"new\", img)"
   ]
  },
  {
   "cell_type": "code",
   "execution_count": 16,
   "id": "b077bce7",
   "metadata": {},
   "outputs": [],
   "source": [
    "can = 255 * np.ones((700, 1200, 3), dtype=\"uint8\")\n",
    "# display(\"can\", can)"
   ]
  },
  {
   "cell_type": "code",
   "execution_count": 15,
   "id": "c7b613b8",
   "metadata": {},
   "outputs": [],
   "source": [
    "pts = np.array([[34, 56], [107, 50], [20, 200], [40, 400], [300, 160]])\n",
    "pts = pts.reshape((-1, 1, 2))\n",
    "cv2.polylines(can, [pts], True, (0, 0, 0), 5)\n",
    "display(\"hey\", can)"
   ]
  },
  {
   "cell_type": "code",
   "execution_count": 17,
   "id": "e6a59399",
   "metadata": {},
   "outputs": [],
   "source": [
    "cv2.circle(can, (250, 250), 100, (0, 0, 255), 5)\n",
    "cv2.circle(can, (375, 250), 100, (255, 0, 0), 5)\n",
    "cv2.circle(can, (500, 250), 100, (0, 255, 0), 5)\n",
    "cv2.circle(can, (312, 375), 100, (255, 0, 255), 5)\n",
    "cv2.circle(can, (437, 375), 100, (0, 255, 255), 5)\n",
    "display(\"circle\", can)"
   ]
  },
  {
   "cell_type": "code",
   "execution_count": 18,
   "id": "b6ea5061",
   "metadata": {},
   "outputs": [],
   "source": [
    "cv2.putText(can, \"Olympics\", (350, 675), cv2.FONT_ITALIC, 10, (255, 0, 0), 5)\n",
    "display(\"n\", can)"
   ]
  },
  {
   "cell_type": "code",
   "execution_count": null,
   "id": "6e9e883a",
   "metadata": {},
   "outputs": [],
   "source": []
  }
 ],
 "metadata": {
  "kernelspec": {
   "display_name": "Python 3",
   "language": "python",
   "name": "python3"
  },
  "language_info": {
   "codemirror_mode": {
    "name": "ipython",
    "version": 3
   },
   "file_extension": ".py",
   "mimetype": "text/x-python",
   "name": "python",
   "nbconvert_exporter": "python",
   "pygments_lexer": "ipython3",
   "version": "3.8.8"
  }
 },
 "nbformat": 4,
 "nbformat_minor": 5
}
