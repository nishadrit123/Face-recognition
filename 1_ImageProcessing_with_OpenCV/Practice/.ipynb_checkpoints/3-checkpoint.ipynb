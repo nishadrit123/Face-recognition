{
 "cells": [
  {
   "cell_type": "code",
   "execution_count": 1,
   "id": "bec6751a",
   "metadata": {},
   "outputs": [],
   "source": [
    "import numpy as np\n",
    "import cv2"
   ]
  },
  {
   "cell_type": "code",
   "execution_count": 9,
   "id": "d94d334e",
   "metadata": {},
   "outputs": [],
   "source": [
    "img = cv2.imread(\"../images/beach.jpg\")"
   ]
  },
  {
   "cell_type": "code",
   "execution_count": 3,
   "id": "7eb47c6d",
   "metadata": {},
   "outputs": [],
   "source": [
    "def display(name, img):\n",
    "    cv2.imshow(name, img)\n",
    "    cv2.waitKey(0)\n",
    "    cv2.destroyAllWindows()"
   ]
  },
  {
   "cell_type": "code",
   "execution_count": 6,
   "id": "c632babc",
   "metadata": {},
   "outputs": [],
   "source": [
    "b, g, r = cv2.split(img)"
   ]
  },
  {
   "cell_type": "code",
   "execution_count": 7,
   "id": "e339bbf1",
   "metadata": {},
   "outputs": [],
   "source": [
    "display(\"blue\", b)\n",
    "display(\"green\", g)\n",
    "display(\"red\", r)"
   ]
  },
  {
   "cell_type": "code",
   "execution_count": 8,
   "id": "422ee532",
   "metadata": {},
   "outputs": [],
   "source": [
    "display(\"beach\", img)"
   ]
  },
  {
   "cell_type": "code",
   "execution_count": 10,
   "id": "fcd0bcd6",
   "metadata": {},
   "outputs": [],
   "source": [
    "gray = cv2.cvtColor(img, cv2.COLOR_BGR2GRAY)\n",
    "display(\"gray\", gray)"
   ]
  },
  {
   "cell_type": "code",
   "execution_count": 11,
   "id": "3331b3d0",
   "metadata": {},
   "outputs": [],
   "source": [
    "hsv = cv2.cvtColor(img, cv2.COLOR_BGR2HSV)\n",
    "display(\"HSV\", hsv)"
   ]
  },
  {
   "cell_type": "code",
   "execution_count": 12,
   "id": "ee755baa",
   "metadata": {},
   "outputs": [],
   "source": [
    "lab = cv2.cvtColor(img, cv2.COLOR_BGR2Lab)\n",
    "display(\"lab\", lab)"
   ]
  },
  {
   "cell_type": "code",
   "execution_count": null,
   "id": "b041fcc7",
   "metadata": {},
   "outputs": [],
   "source": []
  }
 ],
 "metadata": {
  "kernelspec": {
   "display_name": "Python 3",
   "language": "python",
   "name": "python3"
  },
  "language_info": {
   "codemirror_mode": {
    "name": "ipython",
    "version": 3
   },
   "file_extension": ".py",
   "mimetype": "text/x-python",
   "name": "python",
   "nbconvert_exporter": "python",
   "pygments_lexer": "ipython3",
   "version": "3.8.8"
  }
 },
 "nbformat": 4,
 "nbformat_minor": 5
}
