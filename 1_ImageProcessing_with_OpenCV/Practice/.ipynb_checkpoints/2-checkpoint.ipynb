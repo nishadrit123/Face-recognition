{
 "cells": [
  {
   "cell_type": "code",
   "execution_count": 1,
   "id": "ff2ee06f",
   "metadata": {},
   "outputs": [],
   "source": [
    "import numpy as np\n",
    "import cv2"
   ]
  },
  {
   "cell_type": "code",
   "execution_count": 5,
   "id": "d41bd186",
   "metadata": {},
   "outputs": [],
   "source": [
    "img = cv2.imread('../images/3_cars.jpg')"
   ]
  },
  {
   "cell_type": "code",
   "execution_count": 2,
   "id": "321591e3",
   "metadata": {},
   "outputs": [],
   "source": [
    "def display(name, img):\n",
    "    cv2.imshow(name, img)\n",
    "    cv2.waitKey(0)\n",
    "    cv2.destroyAllWindows()"
   ]
  },
  {
   "cell_type": "code",
   "execution_count": 4,
   "id": "960e9f27",
   "metadata": {},
   "outputs": [],
   "source": [
    "display(\"Beach\", img)"
   ]
  },
  {
   "cell_type": "code",
   "execution_count": 8,
   "id": "37e0420f",
   "metadata": {},
   "outputs": [],
   "source": [
    "new = img[400:600, 400:600]"
   ]
  },
  {
   "cell_type": "code",
   "execution_count": 9,
   "id": "f781618c",
   "metadata": {},
   "outputs": [],
   "source": [
    "display(\"new\", new)"
   ]
  },
  {
   "cell_type": "code",
   "execution_count": 10,
   "id": "cf3f5fbe",
   "metadata": {},
   "outputs": [],
   "source": [
    "blue = (255, 0, 0)\n",
    "img[400:600, 400:600] = blue"
   ]
  },
  {
   "cell_type": "code",
   "execution_count": 11,
   "id": "446549f8",
   "metadata": {},
   "outputs": [],
   "source": [
    "display(\"blue\", img)"
   ]
  },
  {
   "cell_type": "code",
   "execution_count": null,
   "id": "8f30aa04",
   "metadata": {},
   "outputs": [],
   "source": []
  }
 ],
 "metadata": {
  "kernelspec": {
   "display_name": "Python 3",
   "language": "python",
   "name": "python3"
  },
  "language_info": {
   "codemirror_mode": {
    "name": "ipython",
    "version": 3
   },
   "file_extension": ".py",
   "mimetype": "text/x-python",
   "name": "python",
   "nbconvert_exporter": "python",
   "pygments_lexer": "ipython3",
   "version": "3.8.8"
  }
 },
 "nbformat": 4,
 "nbformat_minor": 5
}
