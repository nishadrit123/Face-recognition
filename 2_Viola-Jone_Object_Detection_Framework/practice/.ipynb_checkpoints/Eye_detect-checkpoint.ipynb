{
 "cells": [
  {
   "cell_type": "code",
   "execution_count": 1,
   "id": "05387ae6",
   "metadata": {},
   "outputs": [],
   "source": [
    "import numpy as np\n",
    "import cv2"
   ]
  },
  {
   "cell_type": "code",
   "execution_count": 2,
   "id": "bc78bc42",
   "metadata": {},
   "outputs": [],
   "source": [
    "def show(name, img):\n",
    "    cv2.imshow(name, img)\n",
    "    cv2.waitKey(0)\n",
    "    cv2.destroyAllWindows()"
   ]
  },
  {
   "cell_type": "code",
   "execution_count": 3,
   "id": "3773429b",
   "metadata": {},
   "outputs": [],
   "source": [
    "img = cv2.imread(\"../images/mask.jpg\")\n",
    "# show(\"Friends\", img)"
   ]
  },
  {
   "cell_type": "code",
   "execution_count": 4,
   "id": "54b4ba7d",
   "metadata": {},
   "outputs": [],
   "source": [
    "face_detect = cv2.CascadeClassifier(\"../cascade_classifier/haarcascade_frontalface_default.xml\")\n",
    "eye_detect = cv2.CascadeClassifier(\"../cascade_classifier/haarcascade_eye.xml\")"
   ]
  },
  {
   "cell_type": "code",
   "execution_count": 5,
   "id": "8701b626",
   "metadata": {},
   "outputs": [
    {
     "data": {
      "text/plain": [
       "array([[[ 41, 127, 193],\n",
       "        [ 40, 127, 193],\n",
       "        [ 42, 129, 195],\n",
       "        ...,\n",
       "        [  9, 101, 184],\n",
       "        [ 11, 103, 184],\n",
       "        [ 14, 105, 186]],\n",
       "\n",
       "       [[ 40, 126, 192],\n",
       "        [ 40, 126, 192],\n",
       "        [ 42, 128, 194],\n",
       "        ...,\n",
       "        [ 19, 105, 187],\n",
       "        [ 22, 106, 188],\n",
       "        [ 22, 106, 188]],\n",
       "\n",
       "       [[ 41, 125, 190],\n",
       "        [ 41, 125, 190],\n",
       "        [ 43, 127, 193],\n",
       "        ...,\n",
       "        [ 36, 109, 193],\n",
       "        [ 36, 110, 192],\n",
       "        [ 37, 110, 192]],\n",
       "\n",
       "       ...,\n",
       "\n",
       "       [[192, 189, 239],\n",
       "        [192, 189, 239],\n",
       "        [193, 190, 239],\n",
       "        ...,\n",
       "        [229, 235, 254],\n",
       "        [229, 235, 254],\n",
       "        [229, 235, 254]],\n",
       "\n",
       "       [[192, 189, 239],\n",
       "        [192, 189, 239],\n",
       "        [193, 190, 239],\n",
       "        ...,\n",
       "        [227, 234, 254],\n",
       "        [227, 234, 254],\n",
       "        [227, 234, 254]],\n",
       "\n",
       "       [[191, 188, 238],\n",
       "        [192, 189, 239],\n",
       "        [193, 190, 239],\n",
       "        ...,\n",
       "        [226, 233, 253],\n",
       "        [226, 233, 253],\n",
       "        [226, 233, 253]]], dtype=uint8)"
      ]
     },
     "execution_count": 5,
     "metadata": {},
     "output_type": "execute_result"
    }
   ],
   "source": [
    "face, num = face_detect.detectMultiScale2(img, minNeighbors = 10)\n",
    "x, y, w, h = face[0]\n",
    "cv2.rectangle(img, (x, y), (x+w, y+h), (0, 255, 0), 5)"
   ]
  },
  {
   "cell_type": "code",
   "execution_count": 6,
   "id": "25920994",
   "metadata": {},
   "outputs": [
    {
     "name": "stdout",
     "output_type": "stream",
     "text": [
      "[[62]]\n"
     ]
    }
   ],
   "source": [
    "for x, y, w, h in face:\n",
    "#     cv2.rectangle(img, (x, y), (x+w, y+h), (255, 0, 0), 5)\n",
    "    crop = img[y:y+h, x:x+w]\n",
    "    eye, num_eye = eye_detect.detectMultiScale2(crop)\n",
    "    print(num_eye)\n",
    "    for i in range(len(eye)):\n",
    "        if num_eye.flatten()[i] >= 10:\n",
    "            ex, ey, ew, eh = eye[i]\n",
    "            cx = x + ex + ew//2\n",
    "            cy = y + ey + eh//2 \n",
    "            r = ew//2\n",
    "            cv2.circle(img, (cx, cy), r, (0, 255, 0), 2)"
   ]
  },
  {
   "cell_type": "code",
   "execution_count": null,
   "id": "c8bce6c5",
   "metadata": {},
   "outputs": [],
   "source": [
    "show(\"Eyes\", img)"
   ]
  },
  {
   "cell_type": "code",
   "execution_count": null,
   "id": "dd1876f0",
   "metadata": {},
   "outputs": [],
   "source": []
  }
 ],
 "metadata": {
  "kernelspec": {
   "display_name": "Python 3",
   "language": "python",
   "name": "python3"
  },
  "language_info": {
   "codemirror_mode": {
    "name": "ipython",
    "version": 3
   },
   "file_extension": ".py",
   "mimetype": "text/x-python",
   "name": "python",
   "nbconvert_exporter": "python",
   "pygments_lexer": "ipython3",
   "version": "3.8.8"
  }
 },
 "nbformat": 4,
 "nbformat_minor": 5
}
