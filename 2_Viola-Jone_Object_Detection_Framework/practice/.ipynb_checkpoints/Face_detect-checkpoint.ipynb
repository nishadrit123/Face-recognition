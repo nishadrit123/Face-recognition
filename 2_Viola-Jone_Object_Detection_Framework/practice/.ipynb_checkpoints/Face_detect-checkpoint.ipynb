{
 "cells": [
  {
   "cell_type": "code",
   "execution_count": 67,
   "id": "ed588581",
   "metadata": {},
   "outputs": [],
   "source": [
    "import numpy as np\n",
    "import cv2"
   ]
  },
  {
   "cell_type": "code",
   "execution_count": 18,
   "id": "106cb624",
   "metadata": {},
   "outputs": [],
   "source": [
    "img = cv2.imread(\"../images/0021.jpg\")"
   ]
  },
  {
   "cell_type": "code",
   "execution_count": 68,
   "id": "88536543",
   "metadata": {},
   "outputs": [],
   "source": [
    "def show(name, img):\n",
    "    cv2.imshow(name, img)\n",
    "    cv2.waitKey(0)\n",
    "    cv2.destroyAllWindows()"
   ]
  },
  {
   "cell_type": "code",
   "execution_count": 4,
   "id": "8795e694",
   "metadata": {},
   "outputs": [],
   "source": [
    "show(\"Ronaldo\", img)"
   ]
  },
  {
   "cell_type": "code",
   "execution_count": 5,
   "id": "4e4826a8",
   "metadata": {},
   "outputs": [],
   "source": [
    "face_cascade = cv2.CascadeClassifier(\"../cascade_classifier/haarcascade_frontalface_default.xml\")"
   ]
  },
  {
   "cell_type": "code",
   "execution_count": 6,
   "id": "84a895b3",
   "metadata": {},
   "outputs": [],
   "source": [
    "faces, num_detect = face_cascade.detectMultiScale2(img)"
   ]
  },
  {
   "cell_type": "code",
   "execution_count": 7,
   "id": "5cc7683c",
   "metadata": {},
   "outputs": [
    {
     "name": "stdout",
     "output_type": "stream",
     "text": [
      "[[114  40 196 196]]\n"
     ]
    }
   ],
   "source": [
    "print(faces)\n"
   ]
  },
  {
   "cell_type": "code",
   "execution_count": 8,
   "id": "a6464414",
   "metadata": {},
   "outputs": [
    {
     "name": "stdout",
     "output_type": "stream",
     "text": [
      "[[89]]\n"
     ]
    }
   ],
   "source": [
    "print(num_detect)"
   ]
  },
  {
   "cell_type": "code",
   "execution_count": 10,
   "id": "66b2071d",
   "metadata": {},
   "outputs": [],
   "source": [
    "pt1 = (114, 40)\n",
    "pt2 = (114+196, 40+196)\n",
    "cv2.rectangle(img, pt1, pt2, (0, 0, 255), 5)\n",
    "show(\"Face\", img)"
   ]
  },
  {
   "cell_type": "code",
   "execution_count": 54,
   "id": "46c1a4da",
   "metadata": {},
   "outputs": [],
   "source": [
    "friends = cv2.imread(\"../images/friends.jpg\")"
   ]
  },
  {
   "cell_type": "code",
   "execution_count": 55,
   "id": "60e4c6c3",
   "metadata": {},
   "outputs": [],
   "source": [
    "show(\"friends\", friends)"
   ]
  },
  {
   "cell_type": "code",
   "execution_count": 5,
   "id": "ffaf99e5",
   "metadata": {},
   "outputs": [],
   "source": [
    "faces = cv2.CascadeClassifier(\"../cascade_classifier/haarcascade_frontalface_default.xml\")"
   ]
  },
  {
   "cell_type": "code",
   "execution_count": 10,
   "id": "7c50011e",
   "metadata": {},
   "outputs": [],
   "source": [
    "face, num = faces.detectMultiScale2(friends, minNeighbors = 10)"
   ]
  },
  {
   "cell_type": "code",
   "execution_count": 11,
   "id": "e379ad26",
   "metadata": {},
   "outputs": [
    {
     "name": "stdout",
     "output_type": "stream",
     "text": [
      "[[128 107  96  96]\n",
      " [255  90  95  95]\n",
      " [407  92  95  95]]\n"
     ]
    }
   ],
   "source": [
    "print(face)"
   ]
  },
  {
   "cell_type": "code",
   "execution_count": 12,
   "id": "87a714b4",
   "metadata": {},
   "outputs": [
    {
     "name": "stdout",
     "output_type": "stream",
     "text": [
      "[[104]\n",
      " [ 84]\n",
      " [ 71]]\n"
     ]
    }
   ],
   "source": [
    "print(num)"
   ]
  },
  {
   "cell_type": "code",
   "execution_count": 15,
   "id": "20fdf894",
   "metadata": {},
   "outputs": [],
   "source": [
    "for x, y, w, h in face:\n",
    "    cv2.rectangle(friends, (x, y), (x+w, y+h), (0, 255, 0), 5)"
   ]
  },
  {
   "cell_type": "code",
   "execution_count": 16,
   "id": "0391e29a",
   "metadata": {},
   "outputs": [],
   "source": [
    "show(\"Multiple\", friends)"
   ]
  }
 ],
 "metadata": {
  "kernelspec": {
   "display_name": "Python 3",
   "language": "python",
   "name": "python3"
  },
  "language_info": {
   "codemirror_mode": {
    "name": "ipython",
    "version": 3
   },
   "file_extension": ".py",
   "mimetype": "text/x-python",
   "name": "python",
   "nbconvert_exporter": "python",
   "pygments_lexer": "ipython3",
   "version": "3.8.8"
  }
 },
 "nbformat": 4,
 "nbformat_minor": 5
}
