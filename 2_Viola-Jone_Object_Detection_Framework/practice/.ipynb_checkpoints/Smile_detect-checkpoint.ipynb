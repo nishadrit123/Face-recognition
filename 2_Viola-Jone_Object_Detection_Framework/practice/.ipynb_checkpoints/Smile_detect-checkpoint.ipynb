{
 "cells": [
  {
   "cell_type": "code",
   "execution_count": 1,
   "id": "494815bf",
   "metadata": {},
   "outputs": [],
   "source": [
    "import numpy as np\n",
    "import cv2"
   ]
  },
  {
   "cell_type": "code",
   "execution_count": 2,
   "id": "e641cca8",
   "metadata": {},
   "outputs": [],
   "source": [
    "def show(name, img):\n",
    "    cv2.imshow(name, img)\n",
    "    cv2.waitKey(0)\n",
    "    cv2.destroyAllWindows()"
   ]
  },
  {
   "cell_type": "code",
   "execution_count": 3,
   "id": "7e21d6c9",
   "metadata": {},
   "outputs": [],
   "source": [
    "img = cv2.imread(\"../images/friends.jpg\")\n",
    "show(\"Friends\", img)"
   ]
  },
  {
   "cell_type": "code",
   "execution_count": 4,
   "id": "275b964a",
   "metadata": {},
   "outputs": [],
   "source": [
    "face_detect = cv2.CascadeClassifier(\"../cascade_classifier/haarcascade_frontalface_default.xml\")\n",
    "smile_detect = cv2.CascadeClassifier(\"../cascade_classifier/haarcascade_smile.xml\")"
   ]
  },
  {
   "cell_type": "code",
   "execution_count": 5,
   "id": "0bf90f8b",
   "metadata": {},
   "outputs": [],
   "source": [
    "face, num = face_detect.detectMultiScale2(img, minNeighbors = 10)"
   ]
  },
  {
   "cell_type": "code",
   "execution_count": 7,
   "id": "121edcc2",
   "metadata": {},
   "outputs": [],
   "source": [
    "for x, y, w, h in face:\n",
    "#     cv2.rectangle(img, (x, y), (x+w, y+h), (255, 0, 0), 5)\n",
    "    crop = img[y:y+h, x:x+w]\n",
    "    smile, num_eye = smile_detect.detectMultiScale2(crop)\n",
    "    for sx, sy, sw, sh in smile:\n",
    "        cv2.rectangle(img, (x+sx, y+sy), (x+sx+sw, y+sy+sh), (255, 0, 0), 3)"
   ]
  },
  {
   "cell_type": "code",
   "execution_count": 8,
   "id": "6d72b796",
   "metadata": {},
   "outputs": [],
   "source": [
    "show(\"Smile\", img)"
   ]
  },
  {
   "cell_type": "code",
   "execution_count": null,
   "id": "ba12e2cb",
   "metadata": {},
   "outputs": [],
   "source": []
  }
 ],
 "metadata": {
  "kernelspec": {
   "display_name": "Python 3",
   "language": "python",
   "name": "python3"
  },
  "language_info": {
   "codemirror_mode": {
    "name": "ipython",
    "version": 3
   },
   "file_extension": ".py",
   "mimetype": "text/x-python",
   "name": "python",
   "nbconvert_exporter": "python",
   "pygments_lexer": "ipython3",
   "version": "3.8.8"
  }
 },
 "nbformat": 4,
 "nbformat_minor": 5
}
